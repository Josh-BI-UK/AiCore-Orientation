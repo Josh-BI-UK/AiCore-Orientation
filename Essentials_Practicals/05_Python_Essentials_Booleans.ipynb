{
  "cells": [
    {
      "cell_type": "markdown",
      "metadata": {
        "id": "VvQZ215Quo7C"
      },
      "source": [
        "# Booleans and Comparison Operators"
      ]
    },
    {
      "cell_type": "markdown",
      "metadata": {
        "id": "UcRArAEruo7F"
      },
      "source": [
        "## Learning Objectives"
      ]
    },
    {
      "cell_type": "markdown",
      "metadata": {
        "id": "H_cjDyzKuo7G"
      },
      "source": [
        "- Understand the basics of the Boolean data type (bool).\n",
        "- Learn how to use comparison operators.\n",
        "- Learn how to use boolean operators."
      ]
    },
    {
      "cell_type": "markdown",
      "metadata": {
        "id": "WlJHYUPSuo7G"
      },
      "source": [
        "Booleans are data forms with only two possible values: `True` or `False`. These are actually Python keywords; therefore, you can create a boolean using them."
      ]
    },
    {
      "cell_type": "code",
      "execution_count": null,
      "metadata": {
        "id": "hbO5ofRVuo7H",
        "outputId": "fa483846-e374-434f-b2df-38ec9ee27cef"
      },
      "outputs": [
        {
          "data": {
            "text/plain": [
              "bool"
            ]
          },
          "execution_count": 1,
          "metadata": {},
          "output_type": "execute_result"
        }
      ],
      "source": [
        "bool_1 = True\n",
        "bool_2 = False\n",
        "type(bool_1)"
      ]
    },
    {
      "cell_type": "markdown",
      "metadata": {
        "id": "XdBfMS9Quo7c"
      },
      "source": [
        "Additionally, it is possible to cast a value into a boolean. Generally, if it is not empty, it will return True; otherwise, it will return False."
      ]
    },
    {
      "cell_type": "code",
      "execution_count": null,
      "metadata": {
        "id": "BIQ9Ahivuo7c",
        "outputId": "225ea415-2c53-48e0-fb09-cca754b3d99c"
      },
      "outputs": [
        {
          "name": "stdout",
          "output_type": "stream",
          "text": [
            "True\n",
            "False\n"
          ]
        }
      ],
      "source": [
        "my_str = 'Hello'\n",
        "print(bool(my_str))\n",
        "empty_str = ''\n",
        "print(bool(empty_str))"
      ]
    },
    {
      "cell_type": "markdown",
      "metadata": {
        "id": "B_wlm8ZEuo7e"
      },
      "source": [
        "Booleans function in Python as they do in maths. Comparison operators that return booleans based on whether the comparison is true or not: \n",
        "- (<) less than\n",
        "- (>) more than\n",
        "- (<=) less than or equal to\n",
        "- (>=) more than or equal to\n",
        "- (==) equal to (single = is assignment)\n",
        "- (!=) not equal,\n",
        "\n",
        "are used to evaluate equality/inequality.\n",
        "\n",
        "Keywords are employed to chain/modify boolean operators:\n",
        "- and\n",
        "- or\n",
        "- not"
      ]
    },
    {
      "cell_type": "code",
      "execution_count": null,
      "metadata": {
        "id": "7CI5cKR1uo7f",
        "outputId": "00824efa-e924-4117-9a47-a260971630f6"
      },
      "outputs": [
        {
          "data": {
            "text/plain": [
              "True"
            ]
          },
          "execution_count": 4,
          "metadata": {},
          "output_type": "execute_result"
        }
      ],
      "source": [
        "1 < 2"
      ]
    },
    {
      "cell_type": "code",
      "execution_count": null,
      "metadata": {
        "id": "ZGl9kjkUuo7f",
        "outputId": "480d14ef-f729-45bb-ae93-26a38de1d877"
      },
      "outputs": [
        {
          "data": {
            "text/plain": [
              "False"
            ]
          },
          "execution_count": 5,
          "metadata": {},
          "output_type": "execute_result"
        }
      ],
      "source": [
        "1 >= 2"
      ]
    },
    {
      "cell_type": "code",
      "execution_count": null,
      "metadata": {
        "id": "XRbxWDNruo7i",
        "outputId": "26565a43-6dc4-4c1e-9b00-2360c8c1e461"
      },
      "outputs": [
        {
          "data": {
            "text/plain": [
              "True"
            ]
          },
          "execution_count": 6,
          "metadata": {},
          "output_type": "execute_result"
        }
      ],
      "source": [
        "# and/or for boolean-comparison chaining.\n",
        "1 < 2 and 10 < 20"
      ]
    },
    {
      "cell_type": "code",
      "execution_count": null,
      "metadata": {
        "id": "EIPEKzdFuo7r",
        "outputId": "1866844b-9a55-4655-d0fd-b2b4dd6eff0a"
      },
      "outputs": [
        {
          "data": {
            "text/plain": [
              "False"
            ]
          },
          "execution_count": 7,
          "metadata": {},
          "output_type": "execute_result"
        }
      ],
      "source": [
        "True and False"
      ]
    },
    {
      "cell_type": "code",
      "execution_count": null,
      "metadata": {
        "id": "4F_0Erxguo7r",
        "outputId": "f9c4830d-4a56-4e5b-86aa-30a1cb1bb1a0"
      },
      "outputs": [
        {
          "data": {
            "text/plain": [
              "True"
            ]
          },
          "execution_count": 8,
          "metadata": {},
          "output_type": "execute_result"
        }
      ],
      "source": [
        "True or False"
      ]
    },
    {
      "cell_type": "code",
      "execution_count": null,
      "metadata": {
        "id": "s9bOdGPLuo7s",
        "outputId": "81a19446-ad04-4c71-fd94-5015a5e1508a"
      },
      "outputs": [
        {
          "data": {
            "text/plain": [
              "True"
            ]
          },
          "execution_count": 9,
          "metadata": {},
          "output_type": "execute_result"
        }
      ],
      "source": [
        "# and/or for boolean-comparison chaining.\n",
        "25 > 37 or 55 < 100"
      ]
    },
    {
      "cell_type": "code",
      "execution_count": null,
      "metadata": {
        "id": "LVy_pW2Nuo7s",
        "outputId": "9cb1001c-af7d-4493-c382-05fb73e37d63"
      },
      "outputs": [
        {
          "data": {
            "text/plain": [
              "False"
            ]
          },
          "execution_count": 10,
          "metadata": {},
          "output_type": "execute_result"
        }
      ],
      "source": [
        "# use not to return the opposite boolean.\n",
        "not 100 > 1"
      ]
    },
    {
      "cell_type": "code",
      "execution_count": null,
      "metadata": {
        "id": "Bv1edNdluo7s",
        "outputId": "7f67a52d-e795-4493-9488-d46fde9c5099"
      },
      "outputs": [
        {
          "name": "stdout",
          "output_type": "stream",
          "text": [
            "False\n",
            "True\n",
            "True\n"
          ]
        }
      ],
      "source": [
        "# use the 'in' keyword to determine if an item is iterable (also works for strings).\n",
        "print(\"x\" in [1,2,3])\n",
        "\n",
        "print(\"x\" in ['x','y','z'])\n",
        "\n",
        "print(\"a\" in \"a world\")"
      ]
    },
    {
      "cell_type": "markdown",
      "metadata": {
        "id": "jiA2vqDYuo8S"
      },
      "source": [
        "## Conclusion\n",
        "At this point, you should have a good understanding of\n",
        "- the nature of booleans and how to use them.\n",
        "- how to use booleans and logical operators.\n",
        "<br><br>\n",
        "\n"
      ]
    }
  ],
  "metadata": {
    "interpreter": {
      "hash": "beedbe2faf2f7048d727558d0bc3221e7eba2a0b921cac4d4771b2feb8f74b30"
    },
    "kernelspec": {
      "display_name": "Python 3.10.2 64-bit",
      "language": "python",
      "name": "python3"
    },
    "language_info": {
      "codemirror_mode": {
        "name": "ipython",
        "version": 3
      },
      "file_extension": ".py",
      "mimetype": "text/x-python",
      "name": "python",
      "nbconvert_exporter": "python",
      "pygments_lexer": "ipython3",
      "version": "3.10.2"
    },
    "orig_nbformat": 4,
    "colab": {
      "provenance": []
    }
  },
  "nbformat": 4,
  "nbformat_minor": 0
}