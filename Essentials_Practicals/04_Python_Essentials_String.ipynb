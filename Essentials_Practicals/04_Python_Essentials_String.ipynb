{
  "cells": [
    {
      "cell_type": "markdown",
      "metadata": {
        "colab_type": "text",
        "id": "view-in-github"
      },
      "source": [
        "<a href=\"https://colab.research.google.com/github/Josh-BI-UK/AiCore-Orientation/blob/main/04_String.ipynb\" target=\"_parent\"><img src=\"https://colab.research.google.com/assets/colab-badge.svg\" alt=\"Open In Colab\"/></a>"
      ]
    },
    {
      "cell_type": "markdown",
      "metadata": {
        "id": "_j-qSr-yK_Uy"
      },
      "source": [
        "# Module: 04 String\n",
        "### Learning Track: AiCore - Essentials > Python Programming Lesson Track\n",
        "\n",
        "\n",
        "The purpose of this notebook is to practice and test Python techniques covered in the \"AiCore - Essentials > Python Programming\" lesson track. \n",
        "\n",
        "<br>\n",
        "\n",
        "> #### Top Tip:💡 There is a very helpful python lesson on ......"
      ]
    },
    {
      "cell_type": "markdown",
      "metadata": {
        "id": "393ndREEK1Tt"
      },
      "source": [
        "Print the length of the word: `long_word = Pneumonoultramicroscopicsilicovolcanoconiosis'`\n",
        "\n",
        "Don't worry if you can't see the whole word, you can select it and copy it to the clipboard.\n",
        "\n",
        "Print the length of `long_word`.\n",
        "\n",
        "*   Print the length of long_word.\n",
        "\n",
        "\n",
        "Access the first letter of `long_word` by indexing the variable and assign it to `first_c`.\n",
        "\n",
        "Access the last letter of long_word and assign it to `last_c`.\n",
        "Use an arithmetic operator to append `last_c` to first_c and print the result"
      ]
    }
  ],
  "metadata": {
    "colab": {
      "include_colab_link": true,
      "provenance": []
    },
    "kernelspec": {
      "display_name": "base",
      "language": "python",
      "name": "python3"
    },
    "language_info": {
      "name": "python",
      "version": "3.9.13 (main, Aug 25 2022, 18:29:29) \n[Clang 12.0.0 ]"
    },
    "vscode": {
      "interpreter": {
        "hash": "1c63fc448cbcef6ea75575590d1315f3aed7a7d40ffa8180ee43b982def9dff1"
      }
    }
  },
  "nbformat": 4,
  "nbformat_minor": 0
}
