{
  "nbformat": 4,
  "nbformat_minor": 0,
  "metadata": {
    "colab": {
      "provenance": [],
      "include_colab_link": true
    },
    "kernelspec": {
      "name": "python3",
      "display_name": "Python 3"
    },
    "language_info": {
      "name": "python"
    }
  },
  "cells": [
    {
      "cell_type": "markdown",
      "metadata": {
        "id": "view-in-github",
        "colab_type": "text"
      },
      "source": [
        "<a href=\"https://colab.research.google.com/github/Josh-BI-UK/AiCore-Orientation/blob/main/01_Python_Essentials_Print_function_n_varibles.ipynb\" target=\"_parent\"><img src=\"https://colab.research.google.com/assets/colab-badge.svg\" alt=\"Open In Colab\"/></a>"
      ]
    },
    {
      "cell_type": "markdown",
      "source": [
        "This notebook follows the AiCore _**Python Essentials**_ learn path taken as part of the AiCore Flagship 16 week boot camp course."
      ],
      "metadata": {
        "id": "zF0OXpv-KABR"
      }
    },
    {
      "cell_type": "markdown",
      "source": [
        "\n",
        "# 01 - Printing in Python\n",
        "\n",
        "\n",
        "1.1. Print out the message \"This print statement was created in Python\".\n",
        "\n",
        "1.2. name: Print with Multiple Arguments\n",
        "> **Description:** Assign your age to a variable, then, using a single print statement with multiple parameters, print \"Age:\" followed by your age."
      ],
      "metadata": {
        "id": "SbGxbQyqB4Pp"
      }
    },
    {
      "cell_type": "code",
      "execution_count": null,
      "metadata": {
        "id": "LIwgLN9x9yex",
        "colab": {
          "base_uri": "https://localhost:8080/"
        },
        "outputId": "3576aa28-a208-4587-dac6-d21b5ff34d39"
      },
      "outputs": [
        {
          "output_type": "stream",
          "name": "stdout",
          "text": [
            "This print statement was created in Python\n"
          ]
        }
      ],
      "source": [
        "msg = \"This print statement was created in Python\"\n",
        "print(msg)"
      ]
    },
    {
      "cell_type": "code",
      "source": [
        "my_name = 'Josh'\n",
        "age = 39\n",
        "home_town = ' London'\n",
        "print(f\"Hi my name is {my_name}, i'm {age}, \\U0001F923, my home town is {home_town} \\U0001F64C\")"
      ],
      "metadata": {
        "colab": {
          "base_uri": "https://localhost:8080/"
        },
        "id": "D25yU6mcEMLQ",
        "outputId": "791fd5ba-d77f-48a6-90ca-f352abbbd5ca"
      },
      "execution_count": null,
      "outputs": [
        {
          "output_type": "stream",
          "name": "stdout",
          "text": [
            "Hi my name is Josh, i'm 39, 🤣, my home town is  London 🙌\n"
          ]
        }
      ]
    },
    {
      "cell_type": "markdown",
      "source": [
        "# 02 - Variables\n",
        "\n",
        "## **Learning Objectives**\n",
        "After completing this section, you should understand:\n",
        "\n",
        "- variable assignment and naming conventions.\n",
        "- strings and some basic string methods, including `.format()`.\n",
        "- indexing and slicing operations.\n",
        "\n",
        "The lesson notebook teaching the techquies used below can be found [here](https://github.com/Josh-BI-UK/Ai-Core-Content-Public/blob/main/units/Essentials/6.%20Python%20programming/2.%20Variables/Notebook.ipynb)"
      ],
      "metadata": {
        "id": "LG06HSdgNWC9"
      }
    },
    {
      "cell_type": "markdown",
      "source": [
        "## 2.1 Variable Assignment & Re-assignment \n",
        "> **Description:** \n",
        "> 1. Define two variables `num1`, and `num2` with the values 37 and 52 respectively\n",
        "> 2. What is the sum of num1 and num2? What about the product?\n",
        "> 3. Now reassign `num1` and `num2` to have the values 8 and 3 respectively\n",
        "> 4. Reuse the code to determine their sum and product\n",
        "\n",
        "\n"
      ],
      "metadata": {
        "id": "njIkO827F5sy"
      }
    },
    {
      "cell_type": "code",
      "source": [
        "num1 = 37\n",
        "num2 = 52\n",
        "\n",
        "print(num1 + num2)"
      ],
      "metadata": {
        "colab": {
          "base_uri": "https://localhost:8080/"
        },
        "id": "MIvK6_-WGyNG",
        "outputId": "a836d29b-ca4a-40a6-c8ef-0b389183f0a3"
      },
      "execution_count": null,
      "outputs": [
        {
          "output_type": "stream",
          "name": "stdout",
          "text": [
            "89\n"
          ]
        }
      ]
    },
    {
      "cell_type": "code",
      "source": [
        "num1 = 8\n",
        "num2 = 3\n",
        "\n",
        "print(num1 + num2)\n"
      ],
      "metadata": {
        "colab": {
          "base_uri": "https://localhost:8080/"
        },
        "id": "QkeVIks4HS4V",
        "outputId": "cb0147b4-d6d7-4564-bc1d-ab0058c1d9df"
      },
      "execution_count": null,
      "outputs": [
        {
          "output_type": "stream",
          "name": "stdout",
          "text": [
            "11\n"
          ]
        }
      ]
    },
    {
      "cell_type": "markdown",
      "source": [
        "## 2.2 Different Variable Types\n",
        "\n",
        "> **Description:** \n",
        "Define the the following variables `num = 23`, `text_num = “57”` and `decimal_num = 98.3`\n",
        "1. Print the types of each variable (hint: use a type comversion function)\n",
        "2. What is the sum of your variables? What datatype is the sum?\n",
        "\n",
        "\n",
        "## 2.3 Printing Multiple Variables - part-1\n",
        "\n",
        "> **Description:** \n",
        "You can use the print function to print multiple variables of different types on a single line. \n",
        "> This can be done by using comma to separate variables within the parentheses of the print function. \n",
        "> For example: `print(variable1, variable2)`. You can also print raw values that have not been assigned variables. \n",
        "    For example, `print(\"This is variable 1: \", 67)`."
      ],
      "metadata": {
        "id": "JaF0YZoeHtvR"
      }
    },
    {
      "cell_type": "code",
      "source": [
        "#Assigning multiple variables in one statement\n",
        "num, text_num, decimal_num = 23, '57', 98.3\n",
        "\n",
        "#Print multiple variables on one line\n",
        "print('num = ',type(num),\"; \",'text_num = ',type(text_num),\"; \",'decimal_num = ',type(decimal_num))\n",
        "\n",
        "#Print multiple variables on serprate lines, using tab ('\\t') and newline ('\\n') ascii code\n",
        "print('\\t\\n','num = ',type(num),'\\t\\n','text_num = ',type(text_num),'\\t\\n','decimal_num = ',type(decimal_num))"
      ],
      "metadata": {
        "colab": {
          "base_uri": "https://localhost:8080/"
        },
        "id": "6dcg5G8SIh_b",
        "outputId": "8617f2dc-0753-413c-b0a4-7e99334d82f7"
      },
      "execution_count": null,
      "outputs": [
        {
          "output_type": "stream",
          "name": "stdout",
          "text": [
            "num =  <class 'int'> ;  text_num =  <class 'str'> ;  decimal_num =  <class 'float'>\n",
            "\t\n",
            " num =  <class 'int'> \t\n",
            " text_num =  <class 'str'> \t\n",
            " decimal_num =  <class 'float'>\n"
          ]
        }
      ]
    },
    {
      "cell_type": "markdown",
      "source": [
        "## 2.3 Printing Multiple Variables - part-2\n",
        "\n",
        "1. For this exercise, define 5-10 numbers as variables. `num1=...`, `num2=...`\n",
        "2. Use a single print statement to print all of the even numbers out of your newly defined variables with the following statement, `\"These are my even numbers:\"`."
      ],
      "metadata": {
        "id": "XaxpJvb4LxHu"
      }
    },
    {
      "cell_type": "code",
      "source": [
        "\n",
        "# define 5-10 numbers as variables. num1=..., num2=...\n",
        "num1, num2, num3, num4, num5, num6, num7, num8, num9, num10 = 1, 2 , 3, 4, 5, 6, 7, 8, 9, 10\n",
        "my_num_list = [num1, num2, num3, num4, num5, num6, num7, num8, num9, num10]\n",
        "print(my_num_list)"
      ],
      "metadata": {
        "colab": {
          "base_uri": "https://localhost:8080/"
        },
        "id": "9OR4VSCAOzUb",
        "outputId": "5dcf935b-301a-4263-e80e-d6948e5f7652"
      },
      "execution_count": null,
      "outputs": [
        {
          "output_type": "stream",
          "name": "stdout",
          "text": [
            "[1, 2, 3, 4, 5, 6, 7, 8, 9, 10]\n"
          ]
        }
      ]
    },
    {
      "cell_type": "code",
      "source": [
        "\n",
        "# Print statement to print all of the even numbers with message \"These are my even numbers:\"\n",
        "even_nums = []\n",
        "odd_nums = []\n",
        "for mynum in my_num_list:\n",
        "  if (mynum % 2) == 0:\n",
        "    even_nums.append(mynum)\n",
        "  else: \n",
        "    odd_nums.append(mynum)\n",
        "\n",
        "print ('These are my even numbers:',even_nums)\n",
        "print ('These are my odd numbers:',odd_nums)"
      ],
      "metadata": {
        "colab": {
          "base_uri": "https://localhost:8080/"
        },
        "id": "jYbXiJmiMn1b",
        "outputId": "a89a3cd7-805d-4cb1-f98f-3fa1bfcafb88"
      },
      "execution_count": null,
      "outputs": [
        {
          "output_type": "stream",
          "name": "stdout",
          "text": [
            "These are my even numbers: [2, 4, 6, 8, 10]\n",
            "These are my odd numbers: [1, 3, 5, 7, 9]\n"
          ]
        }
      ]
    },
    {
      "cell_type": "markdown",
      "source": [
        "2. The + operator in Python works with strings variables as well as numeric types - but it simply concatenates strings together one after the other. Using + and the example below, write your output as a single complete sentence. (Hint: you'll probably need to use at least one type conversion function). \n",
        "`print(\"work\" + \"shop\")` will output `workshop` ; `print(\"3\" + \"7\")` will output `37`."
      ],
      "metadata": {
        "id": "4aTD-_vOQzcU"
      }
    },
    {
      "cell_type": "code",
      "source": [
        "print(\"work\" + \"shop\",\"\",\"3\" + \"7\")"
      ],
      "metadata": {
        "colab": {
          "base_uri": "https://localhost:8080/"
        },
        "id": "mq64sAR3RCtd",
        "outputId": "658990f6-be2f-4b1a-aeb0-f4f04e2e0b37"
      },
      "execution_count": null,
      "outputs": [
        {
          "output_type": "stream",
          "name": "stdout",
          "text": [
            "workshop  37\n"
          ]
        }
      ]
    },
    {
      "cell_type": "markdown",
      "source": [
        "## 2.4 Calculate Your Shopping Bills\n",
        "**Description:**\n",
        "1. Assign variables for each of these items and their prices\n",
        "        - Tomatoes cost 87p for a pack of 6\n",
        "        - 500g sugar costs £1.09\n",
        "        - Washing sponges cost 29p for a pack of 10\n",
        "        - Juice is £1.89 per 1.5l bottle\n",
        "        - Foil is £1.29 per 30m roll\n",
        "2. Using arithmetic operations in Python, calculate the price of 1kg sugar\n",
        "3. What is the price of 20 washing sponges, 3l of juice, and 2 packs of tomatoes?"
      ],
      "metadata": {
        "id": "2XnTma4CR-X5"
      }
    },
    {
      "cell_type": "code",
      "source": [
        "tomatoes_6_per_pck = 0.87\n",
        "sugar_500g = 1.09\n",
        "washing_sponges_pck_10 = 0.29\n",
        "juice_per_bottle_1_5L = 1.89\n",
        "foil_per_30m_roll = 1.29\n",
        "\n",
        "sugar_1kg = sugar_500g * 2\n",
        "washing_sponges_qty_20 = washing_sponges_pck_10 * 2\n",
        "juice_3L = juice_per_bottle_1_5L * 2\n",
        "tomatoes_2_pcks = tomatoes_6_per_pck * 2\n",
        "my_shop_total = sugar_1kg + washing_sponges_qty_20 + juice_3L + tomatoes_2_pcks\n",
        "\n",
        "print(f'My shopping list total is:',\"£{:,.2f}\".format(my_shop_total))"
      ],
      "metadata": {
        "colab": {
          "base_uri": "https://localhost:8080/"
        },
        "id": "86t9Dk_rTwNP",
        "outputId": "344e0621-c1ad-4c40-eddf-76c9f227cfef"
      },
      "execution_count": null,
      "outputs": [
        {
          "output_type": "stream",
          "name": "stdout",
          "text": [
            "My shopping list total is: £8.28\n"
          ]
        }
      ]
    },
    {
      "cell_type": "markdown",
      "source": [
        "## 2.5 Calculate a Groups Shopping Bills\n",
        "**Description:**\n",
        "1. How much would it cost for 5 people if each person needs:\n",
        "       - A pack of tomatoes\n",
        "       - 3 washing sponges\n",
        "       - A litre of juice\n",
        "       - 20m of foil\n",
        "       - 180g sugar"
      ],
      "metadata": {
        "id": "uOjLCuGmXe64"
      }
    },
    {
      "cell_type": "code",
      "source": [
        "# 5 person shopping list\n",
        "per_person_shop_total = (tomatoes_6_per_pck \n",
        "+ ((washing_sponges_pck_10 // 10) * 3) \n",
        "+ ((juice_per_bottle_1_5L // 1.5) * 1) \n",
        "+ ((foil_per_30m_roll // 30) * 20) \n",
        "+ ((sugar_500g // 500) * 180) )\n",
        "\n",
        "grp_size = 5\n",
        "\n",
        "grp_shop_total = per_person_shop_total * grp_size\n",
        "\n",
        "print(f\"\\t\\n The shop for a group of {grp_size} people totals =\",\"£{:,.2f}.\".format(grp_shop_total),\"\\t\\n That\\'s\",\"£{:,.2f},\".format(per_person_shop_total),\"per person.\")"
      ],
      "metadata": {
        "colab": {
          "base_uri": "https://localhost:8080/"
        },
        "id": "4Sg1-4UzX7V4",
        "outputId": "580241f3-a842-452a-f2f1-839a64668205"
      },
      "execution_count": null,
      "outputs": [
        {
          "output_type": "stream",
          "name": "stdout",
          "text": [
            "\t\n",
            " The shop for a group of 5 people totals = £9.35. \t\n",
            " That's £1.87, per person.\n"
          ]
        }
      ]
    },
    {
      "cell_type": "markdown",
      "source": [
        "2. Assign the value to total\n",
        "  - Provide your answer as a printed variable called total.\n",
        "\n",
        "\n",
        "3. These prices do not include VAT. Calculate the VAT on the total, assuming that VAT is 20%.\n",
        "\n",
        "\n",
        "4. Then round it appropriately to two decimal places."
      ],
      "metadata": {
        "id": "7KjjmmKkf8cb"
      }
    },
    {
      "cell_type": "code",
      "source": [
        "# Assign value to total\n",
        "total = grp_shop_total\n",
        "print(\"£{:,.2f}\".format(total))\n",
        "\n",
        "VAT_pct = 0.20\n",
        "\n",
        "# Calculate VAT amount\n",
        "vat_amount = total * VAT_pct\n",
        "\n",
        "# rounded VAT amount\n",
        "vat_amount  = round(vat_amount,2)\n",
        "\n",
        "total_inc_vat = total * (1 + VAT_pct)\n",
        "print(\"£{:,.2f}\".format(total_inc_vat))"
      ],
      "metadata": {
        "colab": {
          "base_uri": "https://localhost:8080/"
        },
        "id": "B79NupTyej-S",
        "outputId": "d744412b-191c-4359-ae65-7da663ce450a"
      },
      "execution_count": null,
      "outputs": [
        {
          "output_type": "stream",
          "name": "stdout",
          "text": [
            "£9.35\n",
            "£11.22\n"
          ]
        }
      ]
    }
  ]
}
