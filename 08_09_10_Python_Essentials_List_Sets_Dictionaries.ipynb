{
  "cells": [
    {
      "cell_type": "markdown",
      "metadata": {
        "colab_type": "text",
        "id": "view-in-github"
      },
      "source": [
        "<a href=\"https://colab.research.google.com/github/Josh-BI-UK/AiCore-Orientation/blob/main/08_09_10_Python_Essentials_List_Sets_Dictionaries.ipynb\" target=\"_parent\"><img src=\"https://colab.research.google.com/assets/colab-badge.svg\" alt=\"Open In Colab\"/></a>"
      ]
    },
    {
      "cell_type": "markdown",
      "metadata": {
        "id": "3JKtmgeZ_jvP"
      },
      "source": [
        "# Module: 08. List, 09. Sets & 10. Dictionaries\n",
        "### Learning Track: AiCore - Essentials > Python Programming Lesson Track\n",
        "\n",
        "\n",
        "The purpose of this notebook is to practice and test Python techniques covered in the \"AiCore - Essentials > Python Programming\" lesson track. \n",
        "\n",
        "<br>\n",
        "\n",
        "> #### Top Tip:💡"
      ]
    },
    {
      "cell_type": "code",
      "execution_count": null,
      "metadata": {
        "id": "JvZomc1A__yw"
      },
      "outputs": [],
      "source": []
    },
    {
      "cell_type": "code",
      "execution_count": null,
      "metadata": {},
      "outputs": [
        {
          "name": "stdout",
          "output_type": "stream",
          "text": [
            "[10, 20, 30, 40]\n",
            "[10, 20, 30, 40]\n"
          ]
        }
      ],
      "source": [
        "a = [10,20]\n",
        "b = a\n",
        "b += [30,40]\n",
        "print(a)\n",
        "print(b)"
      ]
    },
    {
      "cell_type": "code",
      "execution_count": null,
      "metadata": {},
      "outputs": [
        {
          "name": "stdout",
          "output_type": "stream",
          "text": [
            "('mike', 'bob')\n",
            "('mike', 'bob', 'cat', 'bat')\n"
          ]
        }
      ],
      "source": [
        "c = (\"mike\",\"bob\")\n",
        "d = c\n",
        "d += (\"cat\",\"bat\")\n",
        "print(c)\n",
        "print(d)\n",
        "\n"
      ]
    },
    {
      "cell_type": "code",
      "execution_count": null,
      "metadata": {},
      "outputs": [
        {
          "ename": "TypeError",
          "evalue": "unsupported operand type(s) for +=: 'set' and 'set'",
          "output_type": "error",
          "traceback": [
            "\u001b[0;31m---------------------------------------------------------------------------\u001b[0m\n",
            "\u001b[0;31mTypeError\u001b[0m                                 Traceback (most recent call last)\n",
            "\u001b[0;32m/var/folders/mb/3rtnhtzs5rv2nh1t64t73y540000gn/T/ipykernel_73646/3386341769.py\u001b[0m in \u001b[0;36m<module>\u001b[0;34m\u001b[0m\n",
            "\u001b[1;32m      1\u001b[0m \u001b[0me\u001b[0m \u001b[0;34m=\u001b[0m \u001b[0;34m{\u001b[0m\u001b[0;34m\"red\"\u001b[0m\u001b[0;34m,\u001b[0m\u001b[0;34m\"green\"\u001b[0m\u001b[0;34m}\u001b[0m\u001b[0;34m\u001b[0m\u001b[0;34m\u001b[0m\u001b[0m\n",
            "\u001b[1;32m      2\u001b[0m \u001b[0mf\u001b[0m \u001b[0;34m=\u001b[0m \u001b[0me\u001b[0m\u001b[0;34m\u001b[0m\u001b[0;34m\u001b[0m\u001b[0m\n",
            "\u001b[0;32m----> 3\u001b[0;31m \u001b[0mf\u001b[0m \u001b[0;34m+=\u001b[0m \u001b[0;34m{\u001b[0m\u001b[0;34m\"yellow\"\u001b[0m\u001b[0;34m,\u001b[0m\u001b[0;34m\"blue\"\u001b[0m\u001b[0;34m}\u001b[0m\u001b[0;34m\u001b[0m\u001b[0;34m\u001b[0m\u001b[0m\n",
            "\u001b[0m\u001b[1;32m      4\u001b[0m \u001b[0mprint\u001b[0m\u001b[0;34m(\u001b[0m\u001b[0me\u001b[0m\u001b[0;34m)\u001b[0m\u001b[0;34m\u001b[0m\u001b[0;34m\u001b[0m\u001b[0m\n",
            "\u001b[1;32m      5\u001b[0m \u001b[0mprint\u001b[0m\u001b[0;34m(\u001b[0m\u001b[0mf\u001b[0m\u001b[0;34m)\u001b[0m\u001b[0;34m\u001b[0m\u001b[0;34m\u001b[0m\u001b[0m\n",
            "\n",
            "\u001b[0;31mTypeError\u001b[0m: unsupported operand type(s) for +=: 'set' and 'set'"
          ]
        }
      ],
      "source": [
        "e = {\"red\",\"green\"}\n",
        "f = e\n",
        "f += {\"yellow\",\"blue\"}\n",
        "print(e)\n",
        "print(f)\n",
        "\n"
      ]
    },
    {
      "cell_type": "code",
      "execution_count": null,
      "metadata": {},
      "outputs": [],
      "source": [
        "e1 = set([\"red\",\"green\"])\n",
        "f1 = e1\n",
        "f1 = f1 + set([\"yellow\",\"blue\"])\n",
        "print(e1)\n",
        "print(f1)"
      ]
    },
    {
      "cell_type": "code",
      "execution_count": null,
      "metadata": {},
      "outputs": [
        {
          "name": "stdout",
          "output_type": "stream",
          "text": [
            "99.9\n"
          ]
        }
      ],
      "source": [
        "print(round(99.89,1))"
      ]
    },
    {
      "cell_type": "code",
      "execution_count": null,
      "metadata": {},
      "outputs": [],
      "source": [
        "aTuple = (10,20,30,40,50,60,70,80)"
      ]
    },
    {
      "cell_type": "code",
      "execution_count": null,
      "metadata": {},
      "outputs": [
        {
          "name": "stdout",
          "output_type": "stream",
          "text": [
            "(30, 40, 50) (10, 20, 30, 40) (40, 50, 60, 70, 80)\n"
          ]
        }
      ],
      "source": [
        "print(aTuple[2:5],aTuple[:4],aTuple[3:])"
      ]
    },
    {
      "cell_type": "code",
      "execution_count": null,
      "metadata": {},
      "outputs": [
        {
          "name": "stdout",
          "output_type": "stream",
          "text": [
            "0 10\n",
            "1 20\n",
            "2 30\n",
            "3 40\n",
            "4 50\n",
            "5 60\n",
            "6 70\n",
            "7 80\n"
          ]
        }
      ],
      "source": [
        "for a_index,x_tuple in enumerate(aTuple):\n",
        "    print(a_index,x_tuple)"
      ]
    },
    {
      "attachments": {},
      "cell_type": "markdown",
      "metadata": {},
      "source": [
        "## Python - Slicing Strings\n",
        "\n",
        "```python\n",
        "h_msg = \"Hello, World!\"\n",
        "```\n",
        "\n",
        "#### Example 1: Slice a range of elements\n",
        "Specify the start index and the end index, separated by a colon, to return a part of the string.\n",
        "> Note: The first character has index 0.\n",
        "<br>\n",
        "\n",
        "1. Get the characters from position 2 to position 5 (not included 5):\n",
        "\n",
        "```python\n",
        "h_msg = \"Hello, World!\"\n",
        "print(h_msg[2:5])\n",
        ">> llo\n",
        "```\n",
        "<br>\n",
        "\n",
        "Slice indices have useful defaults; an omitted first index defaults to zero, an omitted second index defaults to the size of the string being sliced.\n",
        "\n",
        "#### Example 2: Slice From the Start\n",
        "By leaving out the start index, the range will start at the first character:\n",
        "\n",
        "2. Get the characters from the start of the string (i.e. \"H\") to position 5: \n",
        "```python\n",
        "h_msg = \"Hello, World!\"\n",
        "print(h_msg[:5])\n",
        ">> Hello\n",
        "```\n",
        "<br>\n",
        "\n",
        "#### Example 3: Slice To the End\n",
        "By leaving out the end index, the range will go to the end.\n",
        "\n",
        "3. Get the characters from position 2 (i.e 1st \"l\" in \"Hello\") to the end: \n",
        "```python\n",
        "h_msg = \"Hello, World!\"\n",
        "print(h_msg[2:])\n",
        ">> llo, World!\n",
        "```\n",
        "\n",
        "\n",
        "### Example 4: Negative Indexing\n",
        "Use negative indexes to start the slice from the end of the string.\n",
        "\n",
        "4. Slice From: \"o\" in \"World!\" (position -5) To, but not included: \"d\" in \"World!\" (position -2):\n",
        "\n",
        "```python\n",
        "h_msg = \"Hello, World!\"\n",
        "print(h_msg[-5:-2])\n",
        ">> orl\n",
        "```"
      ]
    },
    {
      "cell_type": "code",
      "execution_count": null,
      "metadata": {},
      "outputs": [
        {
          "name": "stdout",
          "output_type": "stream",
          "text": [
            "Position 2 to Position 5 (not included 5):\n",
            " ['two', 3.2, False] \n",
            "\n",
            "Position 3 to the end:\n",
            " [0, 1, 'two', 3.2, False] \n",
            "\n",
            "Position 3 to the end:\n",
            " [3.2, False, '5TH'] \n",
            "\n",
            "Position 3 to the end:\n",
            " [1, 'two', 3.2] \n",
            "\n"
          ]
        }
      ],
      "source": [
        "my_list = [0,1,\"two\",3.2,False,\"5TH\"]\n",
        "\n",
        "# Get the items from \"my_list\", position 1 to position 5 (not included 5):\n",
        "print(\"Position 2 to Position 5 (not included 5):\\n\",my_list[2:5],\"\\n\")\n",
        "\n",
        "# Get the items from \"my_list\", start of list to 5 (not included 5):\n",
        "print(\"Position 3 to the end:\\n\",my_list[:5],\"\\n\")\n",
        "\n",
        "# Get the items from \"my_list\", position 3 to the end:\n",
        "print(\"Position 3 to the end:\\n\",my_list[3:],\"\\n\")\n",
        "\n",
        "# Get the items from \"my_list\", position -3 to -5 (not included -5):\n",
        "print(\"Position 3 to the end:\\n\",my_list[-5:-2],\"\\n\")"
      ]
    },
    {
      "attachments": {},
      "cell_type": "markdown",
      "metadata": {},
      "source": [
        "Get the characters from position 2 to position 5 (not included):"
      ]
    },
    {
      "attachments": {},
      "cell_type": "markdown",
      "metadata": {},
      "source": [
        "Given a tuple, we want to use the slicing techquie to select item from the tuple, using there indexed postsion within the tuple.\n"
      ]
    },
    {
      "cell_type": "code",
      "execution_count": null,
      "metadata": {},
      "outputs": [],
      "source": [
        "aTuple = (10,20,30,40,50,60,70,80)\n",
        "print(aTuple[2:5],aTuple[:4],aTuple[3:])"
      ]
    }
  ],
  "metadata": {
    "colab": {
      "authorship_tag": "ABX9TyMJ5bC8QXz+85PvgorPHm9V",
      "include_colab_link": true,
      "provenance": []
    },
    "kernelspec": {
      "display_name": "base",
      "language": "python",
      "name": "python3"
    },
    "language_info": {
      "name": "python",
      "version": "3.9.13 (main, Aug 25 2022, 18:29:29) \n[Clang 12.0.0 ]"
    },
    "vscode": {
      "interpreter": {
        "hash": "1c63fc448cbcef6ea75575590d1315f3aed7a7d40ffa8180ee43b982def9dff1"
      }
    }
  },
  "nbformat": 4,
  "nbformat_minor": 0
}
