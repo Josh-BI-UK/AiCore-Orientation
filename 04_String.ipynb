{
  "nbformat": 4,
  "nbformat_minor": 0,
  "metadata": {
    "colab": {
      "provenance": [],
      "include_colab_link": true
    },
    "kernelspec": {
      "name": "python3",
      "display_name": "Python 3"
    },
    "language_info": {
      "name": "python"
    }
  },
  "cells": [
    {
      "cell_type": "markdown",
      "metadata": {
        "id": "view-in-github",
        "colab_type": "text"
      },
      "source": [
        "<a href=\"https://colab.research.google.com/github/Josh-BI-UK/AiCore-Orientation/blob/main/04_String.ipynb\" target=\"_parent\"><img src=\"https://colab.research.google.com/assets/colab-badge.svg\" alt=\"Open In Colab\"/></a>"
      ]
    },
    {
      "cell_type": "markdown",
      "source": [
        "# Module: 04 String\n",
        "### Learning Track: AiCore - Essentials > Python Programming Lesson Track\n",
        "\n",
        "\n",
        "The purpose of this notebook is to practice and test Python techniques covered in the \"AiCore - Essentials > Python Programming\" lesson track. \n",
        "\n",
        "<br>\n",
        "\n",
        "> #### Top Tip:💡 There is a very helpful python lesson on ......"
      ],
      "metadata": {
        "id": "_j-qSr-yK_Uy"
      }
    },
    {
      "cell_type": "markdown",
      "source": [
        "Print the length of the word: `long_word = Pneumonoultramicroscopicsilicovolcanoconiosis'`\n",
        "\n",
        "Don't worry if you can't see the whole word, you can select it and copy it to the clipboard.\n",
        "\n",
        "Print the length of `long_word`.\n",
        "\n",
        "*   Print the length of long_word.\n",
        "\n",
        "\n",
        "Access the first letter of `long_word` by indexing the variable and assign it to `first_c`.\n",
        "\n",
        "Access the last letter of long_word and assign it to `last_c`.\n",
        "Use an arithmetic operator to append `last_c` to first_c and print the result"
      ],
      "metadata": {
        "id": "393ndREEK1Tt"
      }
    }
  ]
}