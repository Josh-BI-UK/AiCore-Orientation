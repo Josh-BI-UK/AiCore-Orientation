{
  "cells": [
    {
      "cell_type": "markdown",
      "metadata": {
        "id": "view-in-github",
        "colab_type": "text"
      },
      "source": [
        "<a href=\"https://colab.research.google.com/github/Josh-BI-UK/AiCore-Orientation/blob/main/Essential_SQL/03_SQL_Commands.ipynb\" target=\"_parent\"><img src=\"https://colab.research.google.com/assets/colab-badge.svg\" alt=\"Open In Colab\"/></a>"
      ]
    },
    {
      "cell_type": "markdown",
      "metadata": {
        "id": "01E-wj6vuSQJ"
      },
      "source": [
        "<h1 style=\"color: rgb(241, 90, 36)\"><img src=\"https://github.com/AI-Core/Content-Public/blob/main/Content/units/Data-Handling/3.%20SQL/3.%20SQL%20Commands/images/SQLIcon.png?modified=23342&raw=1\" width=80px height=80px style=\"vertical-align: middle;\">  SQL Commands</h1>\n",
        "\n",
        "\n",
        "<h2 style=\"color: rgb(241, 90, 36)\">Command types</h2>\n",
        "\n",
        "*SQL (Structured Query Language)* commands are used to interact with and manipulate data in a relational database. SQL is a programming language specifically designed for managing data in relational databases, and it is used by a wide range of applications, from small personal databases to large enterprise-level systems.\n",
        "\n",
        "There are several types of SQL commands, including:\n",
        "\n",
        "- <b style=\"color: rgb(241, 90, 36)\">*Data Definition Language (DDL)*</b> commands, which are used to define the database schema (e.g: `CREATE`, `ALTER`, and `DROP`)\n",
        "\n",
        "- <b style=\"color: rgb(241, 90, 36)\">*Data Manipulation Language (DML)*</b> commands, which are used to manipulate the data stored in the database (e.g: `SELECT`, `INSERT`, `UPDATE`, and `DELETE`)\n",
        "\n",
        "- <b style=\"color: rgb(241, 90, 36)\">*Data Control Language (DCL)*</b> commands, which are used to control access to the data stored in the database (e.g: `GRANT` and `REVOKE`)\n",
        "\n",
        "- <b style=\"color: rgb(241, 90, 36)\">*Data Query Language (DQL)*</b> commands, that are used to retrieve data from the database (e.g: `SELECT`, `SELECT INTO`, and `SELECT DISTINCT`)\n",
        "\n",
        "- <b style=\"color: rgb(241, 90, 36)\">*Transaction Control Language (TCL)*</b> commands, are used to manage the changes made by Data Manipulation Language (**DML**) statements. **TCL** commands allow you to control the changes made to the data in a database by allowing you to commit or rollback those changes. The three main TCL commands are `COMMIT`, `ROLLBACK` and `SAVEPOINT`.\n",
        "\n",
        "There are many other commands that fall under the above categories but here is a helpful summary of the main commands:\n",
        "\n",
        "<img src=\"https://github.com/AI-Core/Content-Public/blob/main/Content/units/Data-Handling/3.%20SQL/3.%20SQL%20Commands/images/SQL_command_types.png?modified=33342&raw=1\" width=70% height=20% style=\"justify: centre;\">\n",
        "\n",
        "<h2 style=\"color: rgb(241, 90, 36)\">Order of execution</h2>\n",
        "\n",
        "The SQL *order of execution* will be different to that of other programming languages, such as Python, where each line of code is executed sequentially. With SQL, queries are executed in a predefined order and understanding the order can often help you understand why your SQL query won't run. \n",
        "\n",
        "The order of execution of SQL statements is as follows:\n",
        "\n",
        "- <b style=\"color: rgb(241, 90, 36)\">FROM</b>: The table(s) specified in the `FROM` clause are joined and the resulting rows are filtered based on the conditions in the `WHERE` clause\n",
        "\n",
        "- <b style=\"color: rgb(241, 90, 36)\">JOIN</b>: The tables specified in the `JOIN` clause are combined, with each row from the first table being matched with any corresponding rows from the second table\n",
        "\n",
        "- <b style=\"color: rgb(241, 90, 36)\">WHERE</b>: The conditions specified in the `WHERE` clause are used to filter the rows from the result set of the `JOIN` operation\n",
        "\n",
        "- <b style=\"color: rgb(241, 90, 36)\">GROUP BY</b>: The rows are grouped based on the columns specified in the `GROUP BY` clause, and aggregate functions (such as `SUM`, `COUNT`, `AVG`, etc.) are applied to the groups\n",
        "\n",
        "- <b style=\"color: rgb(241, 90, 36)\">HAVING</b>: The conditions specified in the `HAVING` clause are used to filter the groups from the result set of the `GROUP BY` operation\n",
        "\n",
        "- <b style=\"color: rgb(241, 90, 36)\">SELECT</b>: The columns specified in the `SELECT` clause are retrieved from the result set of the `HAVING` operation\n",
        "\n",
        "- <b style=\"color: rgb(241, 90, 36)\">DISTINCT</b>: The duplicate rows are removed from the result set of the `SELECT` operation\n",
        "\n",
        "- <b style=\"color: rgb(241, 90, 36)\">ORDER BY</b>: The result set is sorted based on the columns specified in the `ORDER BY` clause\n",
        "\n",
        "This order can be summarised in the following table:\n",
        "\n",
        "<img src=\"https://github.com/AI-Core/Content-Public/blob/main/Content/units/Data-Handling/3.%20SQL/3.%20SQL%20Commands/images/order_execution.png?modified=33342&raw=1\" style=\"justify: centre;\">\n",
        "\n",
        "It's important to note that not all of these clauses are required in a SQL statement.\n",
        "\n",
        "<h2 style=\"color: rgb(241, 90, 36)\">Order of execution in detail</h2>\n",
        "\n",
        "Let's look at a SQL statement containing all clauses from the SQL **order of execution** and how SQL processes it. I have used the pagila database here and joined the `actor` table to the `film_actor` table to get the result. Don't worry about the details of each clause they will be covered in more detail in later notebooks.\n",
        "\n",
        "A SQL query is a statement used to retrieve data from a database, and it is written in SQL syntax.\n",
        "\n",
        "The SQL query:"
      ]
    },
    {
      "cell_type": "code",
      "execution_count": null,
      "metadata": {
        "vscode": {
          "languageId": "sql"
        },
        "id": "oRNAOg9euSQP"
      },
      "outputs": [],
      "source": [
        "SELECT actor.first_name, COUNT(film_actor.film_id) as film_count FROM actor\n",
        "JOIN film_actor ON actor.actor_id = film_actor.actor_id\n",
        "WHERE first_name LIKE 'A%'\n",
        "GROUP BY actor.first_name\n",
        "HAVING COUNT(film_actor.film_id) > 31\n",
        "ORDER BY first_name\n",
        "LIMIT 3"
      ]
    },
    {
      "cell_type": "markdown",
      "metadata": {
        "id": "rJqaU_-HuSQQ"
      },
      "source": [
        ">The tables in the images shown here before the query completes are just a visual representation of what SQL is performing in the background. You don't need to understand the query \n",
        ">in detail, rather try to understand the order the query is executing in. You may want to revisit this notebook after leaning more SQL to solidify your understanding. \n",
        "\n",
        "Notice the order of the query is written similarly to the SQL **order of execution** but the `SELECT` statement comes first. This is just a syntactical choice by the creators of SQL. You might think the way to read this query is top to bottom like you normally would with other programming languages. The way to read it is to think about the SQL **order of execution**, SQL will process it in the following way:\n",
        "\n",
        "Step 1 <b style=\"color: rgb(241, 90, 36)\">FROM</b>: "
      ]
    },
    {
      "cell_type": "code",
      "execution_count": null,
      "metadata": {
        "vscode": {
          "languageId": "sql"
        },
        "id": "wWYlLYNbuSQR"
      },
      "outputs": [],
      "source": [
        "FROM actor"
      ]
    },
    {
      "cell_type": "markdown",
      "metadata": {
        "id": "-PLr8frDuSQR"
      },
      "source": [
        "<img src=\"https://github.com/AI-Core/Content-Public/blob/main/Content/units/Data-Handling/3.%20SQL/3.%20SQL%20Commands/images/actor_table.png?modified=33322342&raw=1\" style=\"justify: centre;\">\n",
        "\n",
        "The first step in the order of execution is the `FROM` statement. Here SQL is beginning the query by targeting all the data in the `actor` table. \n",
        "\n",
        "Step 2  <b style=\"color: rgb(241, 90, 36)\">JOIN</b>:"
      ]
    },
    {
      "cell_type": "code",
      "execution_count": null,
      "metadata": {
        "vscode": {
          "languageId": "sql"
        },
        "id": "4ibiVv8RuSQS"
      },
      "outputs": [],
      "source": [
        "JOIN film_actor ON actor.actor_id = film_actor.actor_id"
      ]
    },
    {
      "cell_type": "markdown",
      "metadata": {
        "id": "yHG3gopruSQS"
      },
      "source": [
        "> The coloured cell overlays in the preceding images were added after the query was run. They are just used to indicate which rows SQL is operating on."
      ]
    },
    {
      "cell_type": "markdown",
      "metadata": {
        "id": "Ah_xv7jRuSQS"
      },
      "source": [
        "\n",
        "<img src=\"https://github.com/AI-Core/Content-Public/blob/main/Content/units/Data-Handling/3.%20SQL/3.%20SQL%20Commands/images/joins.png?modified=2342322&raw=1\" style=\"justify: centre;\">\n",
        "\n",
        "Don't worry about the specifics of the join. Here we're joining the `actor` table to the `film_actor` table where the `actor_id`'s match. Notice in the resulting table there is two columns for `actor_id` and `last_update`. This happens because both columns are present in both table. To remedy this, SQL will postfix one of the columns with an incremental integer. You can see in the tables the're the columns:\n",
        "\n",
        "- `last_update` and `last_update(1)`\n",
        "- `actor_id` and `actor_id(1)`\n",
        "\n",
        "\n",
        "In the image above, you can see that SQL will join the rows coloured green together to produce the rows coloured red in the table on the right. It will do this for every actor in the `actor` table creating rows for each movie they played in. \n",
        "\n",
        "Step 3 <b style=\"color: rgb(241, 90, 36)\">WHERE</b>:\n"
      ]
    },
    {
      "cell_type": "code",
      "execution_count": null,
      "metadata": {
        "vscode": {
          "languageId": "sql"
        },
        "id": "xsS4o3F1uSQT"
      },
      "outputs": [],
      "source": [
        "WHERE first_name LIKE 'A%'"
      ]
    },
    {
      "cell_type": "markdown",
      "metadata": {
        "id": "zH0r3qH4uSQT"
      },
      "source": [
        "Now we apply filtering to the data, using the `WHERE` statement. Here the data is filtered with the `LIKE` command to find actors where their first name starts with the letter A. Resulting in the following table:\n",
        "\n",
        "<img src=\"https://github.com/AI-Core/Content-Public/blob/main/Content/units/Data-Handling/3.%20SQL/3.%20SQL%20Commands/images/actor_group.png?modified=2342322&raw=1\" style=\"justify: centre;\">\n",
        "\n",
        "Step 4 <b style=\"color: rgb(241, 90, 36)\">GROUP BY</b>:"
      ]
    },
    {
      "cell_type": "code",
      "execution_count": null,
      "metadata": {
        "vscode": {
          "languageId": "sql"
        },
        "id": "h1KOqadEuSQU"
      },
      "outputs": [],
      "source": [
        "GROUP BY actor.first_name"
      ]
    },
    {
      "cell_type": "markdown",
      "metadata": {
        "id": "hiHF09CFuSQU"
      },
      "source": [
        "Now we apply the `GROUP BY` aggregation which will group all actors together by first name. You can see in the image below it will try to group the rows highlighted in green and every other row where the actor's name is `Adam` together.\n",
        "\n",
        "<img src=\"https://github.com/AI-Core/Content-Public/blob/main/Content/units/Data-Handling/3.%20SQL/3.%20SQL%20Commands/images/actor_groupby.png?modified=2342322&raw=1\" style=\"justify: centre;\">\n",
        "\n",
        ">We can't see the remainder of the table but the `GROUP BY` will group any remaining rows together where the actors `first_name` is Adam. If there was also more than one actor named `Christopher` it would also group all those rows together. It will continue to do this for all `first_name`s. "
      ]
    },
    {
      "cell_type": "markdown",
      "metadata": {
        "id": "eM7FxdVDuSQV"
      },
      "source": [
        "Step 5 <b style=\"color: rgb(241, 90, 36)\">HAVING</b>: "
      ]
    },
    {
      "cell_type": "code",
      "execution_count": null,
      "metadata": {
        "vscode": {
          "languageId": "sql"
        },
        "id": "5cfOCSoyuSQV"
      },
      "outputs": [],
      "source": [
        "HAVING COUNT(film_actor.film_id) > 31"
      ]
    },
    {
      "cell_type": "markdown",
      "metadata": {
        "id": "Yd2IYmeuuSQV"
      },
      "source": [
        "<img src=\"https://github.com/AI-Core/Content-Public/blob/main/Content/units/Data-Handling/3.%20SQL/3.%20SQL%20Commands/images/having_filter.png?modified=42322&raw=1\" style=\"justify: centre;\">\n",
        "\n",
        "After SQL has grouped all the entries by `first_name`. The `HAVING` clause here will only display the rows where the amount of entries in the `film_id` column for that name is greater than `31`. \n",
        "\n",
        "STEP 6 <b style=\"color: rgb(241, 90, 36)\">SELECT</b>:"
      ]
    },
    {
      "cell_type": "code",
      "execution_count": null,
      "metadata": {
        "vscode": {
          "languageId": "sql"
        },
        "id": "l4UWuQqNuSQW"
      },
      "outputs": [],
      "source": [
        "SELECT actor.first_name, COUNT(film_actor.film_id) as film_id_count as film_count FROM actor"
      ]
    },
    {
      "cell_type": "markdown",
      "metadata": {
        "id": "7svD-TufuSQW"
      },
      "source": [
        "Now the `SELECT` clause will determine which columns we will choose from the data. In this case we have decided on the count of the `film_id` column, naming this `film_id_count` and the actors `first_name`. \n",
        "\n",
        "<img src=\"https://github.com/AI-Core/Content-Public/blob/main/Content/units/Data-Handling/3.%20SQL/3.%20SQL%20Commands/images/select_statement.png?modified=23422&raw=1\" style=\"justify: centre;\">\n",
        "\n",
        "\n",
        "STEP 7 <b style=\"color: rgb(241, 90, 36)\">ORDER BY</b>:"
      ]
    },
    {
      "cell_type": "code",
      "execution_count": null,
      "metadata": {
        "vscode": {
          "languageId": "sql"
        },
        "id": "a8hsw__ouSQW"
      },
      "outputs": [],
      "source": [
        "ORDER BY first_name"
      ]
    },
    {
      "cell_type": "markdown",
      "metadata": {
        "id": "jDwO7tDPuSQX"
      },
      "source": [
        "<img src=\"https://github.com/AI-Core/Content-Public/blob/main/Content/units/Data-Handling/3.%20SQL/3.%20SQL%20Commands/images/order_by.png?modified=23422&raw=1\" style=\"justify: centre;\">\n",
        "\n",
        "Using `ORDER BY` the data will be ordered by `first_name` which will sort the data by the `first_name` column in ascending order.\n",
        "\n",
        "STEP 8 <b style=\"color: rgb(241, 90, 36)\">LIMIT</b>:"
      ]
    },
    {
      "cell_type": "code",
      "execution_count": null,
      "metadata": {
        "vscode": {
          "languageId": "sql"
        },
        "id": "nuC26V-vuSQX"
      },
      "outputs": [],
      "source": [
        "LIMIT 3"
      ]
    },
    {
      "cell_type": "markdown",
      "metadata": {
        "id": "Kp0m4gexuSQX"
      },
      "source": [
        "<img src=\"https://github.com/AI-Core/Content-Public/blob/main/Content/units/Data-Handling/3.%20SQL/3.%20SQL%20Commands/images/limit_clause.png?modified=342&raw=1\" style=\"justify: centre;\">\n",
        "\n",
        "Finally we limit the data selecting only the top three entries. This completes the query and returns the resulting data. \n",
        "\n",
        ">So why does this matter? Well when you first start writing queries you may write a query which logically makes sense but in fact following the **order of execution** fails. \n",
        "\n",
        "Let's look at an example: "
      ]
    },
    {
      "cell_type": "code",
      "execution_count": null,
      "metadata": {
        "vscode": {
          "languageId": "sql"
        },
        "id": "D2hGY4bGuSQY"
      },
      "outputs": [],
      "source": [
        "SELECT actor.first_name, COUNT(film_actor.film_id) as film_count FROM actor\n",
        "JOIN film_actor ON actor.actor_id = film_actor.actor_id\n",
        "WHERE first_name LIKE 'A%'\n",
        "GROUP BY actor.first_name\n",
        "HAVING film_count > 31\n",
        "ORDER BY first_name\n",
        "LIMIT 3"
      ]
    },
    {
      "cell_type": "markdown",
      "metadata": {
        "id": "gl8t8jSGuSQY"
      },
      "source": [
        "Notice this is nearly the same query we wrote before. The only line changed is the line with the `HAVING` clause."
      ]
    },
    {
      "cell_type": "code",
      "execution_count": null,
      "metadata": {
        "vscode": {
          "languageId": "sql"
        },
        "id": "5exgvoZJuSQY"
      },
      "outputs": [],
      "source": [
        "HAVING film_count > 31"
      ]
    },
    {
      "cell_type": "markdown",
      "metadata": {
        "id": "JyIy-MtmuSQY"
      },
      "source": [
        "In our mind this might look correct, we're wanting all actors having a `film_count > 31` and we referenced `film_count` in the `SELECT` statement. "
      ]
    },
    {
      "cell_type": "code",
      "execution_count": null,
      "metadata": {
        "vscode": {
          "languageId": "sql"
        },
        "id": "cq0geafDuSQZ"
      },
      "outputs": [],
      "source": [
        "SELECT actor.first_name, COUNT(film_actor.film_id) as film_count"
      ]
    },
    {
      "cell_type": "markdown",
      "metadata": {
        "id": "6PL5VeKsuSQZ"
      },
      "source": [
        "This makes sense if you read the statement as a whole, but following the order of execution. `HAVING` is 5th in the order and `SELECT` is 6th in the order of execution. So the `film_count` column we're trying to reference with our `HAVING` clause hasn't actually been generated by SQL yet and so we will get an error.\n",
        "\n",
        "<img src=\"https://github.com/AI-Core/Content-Public/blob/main/Content/units/Data-Handling/3.%20SQL/3.%20SQL%20Commands/images/film_count_error.png?modified=34232&raw=1\" style=\"justify: centre;\">\n",
        "\n",
        "The error is telling us the `film_count` column doesn't exist, which is to be expected since the `SELECT` clause hasn't run yet allowing the `HAVING` clause to reference it. So if you get some unexpected errors when writing SQL statements try to keep in mind the order of execution as it's often the source of the problem. \n",
        "\n",
        "## Remembering the order of execution\n",
        "\n",
        "The best way to remember the **order of execution** is first to remember the order in which a SQL query is written. One way to remember the order is to make up a mnemonic for the order, here's just one example:\n",
        "\n",
        "- `SELECT`: **S**ome\n",
        "- `FROM`: **F**rogs\n",
        "- `JOIN`: **J**ump\n",
        "- `WHERE`: **W**here\n",
        "- `GROUP BY`: **G**iraffes\n",
        "- `HAVING`: **H**ave\n",
        "- `ORDER BY`: **O**riginally\n",
        "- `LIMIT`: **L**anded\n",
        "\n",
        "If you can remember the order in which the statement is written then, it is easy to remember the **order of execution**. All you now need to remember is, the `SELECT` statement comes **after** the `WHERE` statement. Reordering your query can also help you to get a clearer understanding of the order in which your query is processed.\n",
        "\n",
        ">You can reorder the query but remember it won't run since it will syntactically incorrect. It's just an aid to help you understand the logical flow of the query."
      ]
    },
    {
      "cell_type": "code",
      "execution_count": null,
      "metadata": {
        "vscode": {
          "languageId": "sql"
        },
        "id": "mlsf32yYuSQZ"
      },
      "outputs": [],
      "source": [
        "-- Reordering this\n",
        "\n",
        "SELECT actor.first_name, COUNT(film_actor.film_id) as film_count FROM actor\n",
        "JOIN film_actor ON actor.actor_id = film_actor.actor_id\n",
        "WHERE first_name LIKE 'A%'\n",
        "GROUP BY actor.first_name\n",
        "HAVING film_count > 31\n",
        "ORDER BY first_name\n",
        "LIMIT 3\n",
        "\n",
        "-- to this, visually showing the order in which the statement will execute\n",
        "\n",
        "FROM actor\n",
        "JOIN film_actor ON actor.actor_id = film_actor.actor_id\n",
        "WHERE first_name LIKE 'A%'\n",
        "SELECT actor.first_name, COUNT(film_actor.film_id) as film_count\n",
        "GROUP BY actor.first_name\n",
        "HAVING film_count > 31\n",
        "ORDER BY first_name\n",
        "LIMIT 3"
      ]
    },
    {
      "cell_type": "markdown",
      "metadata": {
        "id": "cIxijXZouSQa"
      },
      "source": [
        "You can also think of the order of being broken up into three different stages:\n",
        "\n",
        "- **Stage 1**: Using `FROM`, `JOIN` and `WHERE`, can be though of as preprocessing the data so you have all the data required available. We tell SQL what table to get the data from, join any other required tables and then preform some filtering to narrow down the results.\n",
        "- **Stage 2**: Using `SELECT`, `GROUP BY` and `HAVING`, now we choose exactly what columns we want and group them all together and preformed further filtering of the results. Notice both these stages end with filtering the results.\n",
        "- **Stage 3**: Using `ORDER BY` and `LIMIT`, we sort and order the data finally returning the final result."
      ]
    },
    {
      "cell_type": "markdown",
      "metadata": {
        "id": "aAxfNR6ouSQa"
      },
      "source": [
        "## Key Takeaways\n",
        "\n",
        "- SQL commands come in different flavours and for different tasks. You don't need to know them all in detail but should know the main areas different command types fall under.\n",
        "- Trying to visualise what SQL is performing in the background can help you to understand errors in your queries\n",
        "- Breaking a SQL statement into individual steps where you can, can help to understand how the data is being manipulated\n",
        "- Order matters! Always keep the **order of execution** in mind when writing SQL queries\n",
        "- If you can remember the order in which SQL queries are written in then you can easily remember the **order of execution**"
      ]
    }
  ],
  "metadata": {
    "kernelspec": {
      "display_name": "base",
      "language": "python",
      "name": "python3"
    },
    "language_info": {
      "codemirror_mode": {
        "name": "ipython",
        "version": 3
      },
      "file_extension": ".py",
      "mimetype": "text/x-python",
      "name": "python",
      "nbconvert_exporter": "python",
      "pygments_lexer": "ipython3",
      "version": "3.10.9"
    },
    "vscode": {
      "interpreter": {
        "hash": "a2592652612463181e69ac003232387e3e9a99279aa6b168e76f5df16d5110f4"
      }
    },
    "colab": {
      "provenance": [],
      "include_colab_link": true
    }
  },
  "nbformat": 4,
  "nbformat_minor": 0
}