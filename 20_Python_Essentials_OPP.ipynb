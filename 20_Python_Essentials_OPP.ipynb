{
  "nbformat": 4,
  "nbformat_minor": 0,
  "metadata": {
    "colab": {
      "provenance": [],
      "authorship_tag": "ABX9TyN4rdtGLGom7UdaT3d7pt5B",
      "include_colab_link": true
    },
    "kernelspec": {
      "name": "python3",
      "display_name": "Python 3"
    },
    "language_info": {
      "name": "python"
    }
  },
  "cells": [
    {
      "cell_type": "markdown",
      "metadata": {
        "id": "view-in-github",
        "colab_type": "text"
      },
      "source": [
        "<a href=\"https://colab.research.google.com/github/Josh-BI-UK/AiCore-Orientation/blob/main/20_Python_Essentials_OPP.ipynb\" target=\"_parent\"><img src=\"https://colab.research.google.com/assets/colab-badge.svg\" alt=\"Open In Colab\"/></a>"
      ]
    },
    {
      "cell_type": "markdown",
      "source": [
        "# Module: 20 Object Oriented Programming\n",
        "### Learning Track: AiCore - Essentials > Python Programming Lesson Track\n",
        "\n",
        "\n",
        "The purpose of this notebook is to practice and test Python techniques covered in the \"AiCore - Essentials > Python Programming\" lesson track. \n",
        "\n",
        "<br>\n"
      ],
      "metadata": {
        "id": "zAc5Afxl1ZrJ"
      }
    },
    {
      "cell_type": "markdown",
      "source": [],
      "metadata": {
        "id": "dbG6eJyX1auv"
      }
    },
    {
      "cell_type": "code",
      "source": [
        "class Staff:\n",
        "    def __init__(self,first_name,last_name,pay):\n",
        "        self.first_name = first_name\n",
        "        self.last_name = last_name\n",
        "        self.pay = pay\n",
        "        self.email = first_name +\".\"+ last_name + \"@companyinc.com\"\n",
        "    def get_staff_info(self):\n",
        "        self.staff_record = [self.first_name,self.last_name,self.email,self.pay]\n",
        "        print(self.staff_record) "
      ],
      "metadata": {
        "id": "wrM03aCu1tyx"
      },
      "execution_count": null,
      "outputs": []
    },
    {
      "cell_type": "code",
      "source": [
        "starter_1 = Staff(\"Joe\",\"Bloogs\",1000)\n",
        "starter_2 = Staff(\"Frank\",\"Burno\",5000)\n",
        "\n",
        "\n",
        "print(starter_1.email)\n",
        "starter_1.get_staff_info()"
      ],
      "metadata": {
        "id": "4w4cYk011rSe"
      },
      "execution_count": null,
      "outputs": []
    }
  ]
}