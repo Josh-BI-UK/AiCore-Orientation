{
  "cells": [
    {
      "cell_type": "markdown",
      "metadata": {
        "colab_type": "text",
        "id": "view-in-github"
      },
      "source": [
        "<a href=\"https://colab.research.google.com/github/Josh-BI-UK/AiCore-Orientation/blob/main/20_Python_Essentials_OPP.ipynb\" target=\"_parent\"><img src=\"https://colab.research.google.com/assets/colab-badge.svg\" alt=\"Open In Colab\"/></a>"
      ]
    },
    {
      "cell_type": "markdown",
      "metadata": {
        "id": "zAc5Afxl1ZrJ"
      },
      "source": [
        "# Module: 20 Object Oriented Programming\n",
        "### Learning Track: AiCore - Essentials > Python Programming Lesson Track\n",
        "\n",
        "\n",
        "The purpose of this notebook is to practice and test Python techniques covered in the \"AiCore - Essentials > Python Programming\" lesson track. \n",
        "\n",
        "<br>\n"
      ]
    },
    {
      "cell_type": "markdown",
      "metadata": {
        "id": "dbG6eJyX1auv"
      },
      "source": []
    },
    {
      "cell_type": "code",
      "execution_count": 2,
      "metadata": {
        "id": "wrM03aCu1tyx"
      },
      "outputs": [],
      "source": [
        "class Staff:\n",
        "    def __init__(self,first_name,last_name,pay):\n",
        "        self.first_name = first_name\n",
        "        self.last_name = last_name\n",
        "        self.pay = pay\n",
        "        self.email = first_name +\".\"+ last_name + \"@companyinc.com\"\n",
        "    def get_staff_info(self):\n",
        "        self.staff_record = [self.first_name,self.last_name,self.email,self.pay]\n",
        "        print(self.staff_record) "
      ]
    },
    {
      "cell_type": "code",
      "execution_count": 3,
      "metadata": {
        "id": "4w4cYk011rSe"
      },
      "outputs": [
        {
          "name": "stdout",
          "output_type": "stream",
          "text": [
            "Joe.Bloogs@companyinc.com\n",
            "['Joe', 'Bloogs', 'Joe.Bloogs@companyinc.com', 1000]\n"
          ]
        }
      ],
      "source": [
        "starter_1 = Staff(\"Joe\",\"Bloogs\",1000)\n",
        "starter_2 = Staff(\"Frank\",\"Burno\",5000)\n",
        "\n",
        "\n",
        "print(starter_1.email)\n",
        "starter_1.get_staff_info()"
      ]
    },
    {
      "cell_type": "code",
      "execution_count": 4,
      "metadata": {},
      "outputs": [
        {
          "name": "stdout",
          "output_type": "stream",
          "text": [
            "<class 'int'>\n"
          ]
        }
      ],
      "source": [
        "i = 100\n",
        "print(type(i))"
      ]
    }
  ],
  "metadata": {
    "colab": {
      "authorship_tag": "ABX9TyN4rdtGLGom7UdaT3d7pt5B",
      "include_colab_link": true,
      "provenance": []
    },
    "kernelspec": {
      "display_name": "base",
      "language": "python",
      "name": "python3"
    },
    "language_info": {
      "codemirror_mode": {
        "name": "ipython",
        "version": 3
      },
      "file_extension": ".py",
      "mimetype": "text/x-python",
      "name": "python",
      "nbconvert_exporter": "python",
      "pygments_lexer": "ipython3",
      "version": "3.9.13"
    },
    "vscode": {
      "interpreter": {
        "hash": "1c63fc448cbcef6ea75575590d1315f3aed7a7d40ffa8180ee43b982def9dff1"
      }
    }
  },
  "nbformat": 4,
  "nbformat_minor": 0
}
