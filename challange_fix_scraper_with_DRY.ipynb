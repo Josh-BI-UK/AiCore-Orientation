{
 "cells": [
  {
   "cell_type": "code",
   "execution_count": null,
   "metadata": {},
   "outputs": [],
   "source": []
  },
  {
   "attachments": {},
   "cell_type": "markdown",
   "metadata": {},
   "source": [
    "Fix below script to reduce reapting code\n",
    "\n",
    "\n",
    "```python\n",
    "from http import cookies\n",
    "from selenium import webdriver\n",
    "from selenium.webdriver.common.by import By\n",
    "\n",
    "class Scraper:\n",
    "    def __init__(self, url):\n",
    "        self.url = url\n",
    "        self.driver = webdriver.Chrome()\n",
    "        self.driver.get(self.url)\n",
    "\n",
    "    def click_button(self, xpath):\n",
    "        button = self.driver.find_element(By.XPATH, xpath)\n",
    "        button.click()\n",
    "\n",
    "    def click_accept_cookies(self, xpath):\n",
    "        cookies_button = self.driver.find_element(By.XPATH, xpath)\n",
    "        cookies_button.click()\n",
    "click_add_to_cart\n",
    "    def click_search_button(self, xpath):\n",
    "        search_button = self.driver.find_element(By.XPATH, xpath)\n",
    "        search_button.click()\n",
    "\n",
    "    def click_add_to_cart(self, xpath):\n",
    "        add_to_cart_button = self.driver.find_element(By.XPATH, xpath)\n",
    "        add_to_cart_button.click()\n",
    "```"
   ]
  },
  {
   "cell_type": "code",
   "execution_count": 14,
   "metadata": {},
   "outputs": [],
   "source": [
    "from http import cookies\n",
    "from selenium import webdriver\n",
    "from selenium.webdriver.common.by import By\n",
    "\n",
    "class Scraper:\n",
    "    def __init__(self, url):\n",
    "        self.url = url\n",
    "        self.driver = webdriver.Chrome()\n",
    "        self.driver.get(self.url)\n",
    "\n",
    "    \n",
    "    def click(self,xpath):\n",
    "        element = self.driver.find_element(By.XPATH, xpath)\n",
    "        element.click()"
   ]
  },
  {
   "cell_type": "code",
   "execution_count": 6,
   "metadata": {},
   "outputs": [],
   "source": [
    "my_xpath = r'//*[@id=\"/en/basic-html/create-a-webpage/1/\"]/ol[1]/li[4]/div/img'\n",
    "web_url = 'https://edu.gcfglobal.org/en/basic-html/create-a-webpage/1/'\n",
    "test_scrap = Scraper(web_url).click_add_to_cart(my_xpath)"
   ]
  },
  {
   "cell_type": "code",
   "execution_count": 19,
   "metadata": {},
   "outputs": [],
   "source": [
    "search_xpath = r'//*[@id=\"subjects-search\"]/div[2]/button[1]'\n",
    "pg_scroll_xpath = r'//html/body/div[2]/div[2]/div/div[1]/div/div/div/div[4]/a'\n",
    "web_url = 'https://edu.gcfglobal.org/en/basic-html/create-a-webpage/1/'\n",
    "test_scrap = Scraper(web_url)\n",
    "\n",
    "click_pg_scroll = test_scrap.click(pg_scroll_xpath)\n",
    "# or\n",
    "#click_search_button = test_scrap.click(search_xpath)"
   ]
  },
  {
   "cell_type": "code",
   "execution_count": null,
   "metadata": {},
   "outputs": [],
   "source": [
    "search_xpath1 = r'//*[@id=\"topnav\"]/div/div[1]/a[23]'\n",
    "pg_scroll_xpath1 = r'//*[@id=\"main\"]/div[2]/a[2]'\n",
    "web_url1 = 'https://www.w3schools.com/python/default.asp'\n",
    "wc3_scrap = Scraper(web_url1)\n",
    "\n",
    "#click_pg_scroll = wc3_scrap.click(pg_scroll_xpath1)\n",
    "# or\n",
    "click_search_button = wc3_scrap.click(search_xpath1)"
   ]
  }
 ],
 "metadata": {
  "kernelspec": {
   "display_name": "base",
   "language": "python",
   "name": "python3"
  },
  "language_info": {
   "codemirror_mode": {
    "name": "ipython",
    "version": 3
   },
   "file_extension": ".py",
   "mimetype": "text/x-python",
   "name": "python",
   "nbconvert_exporter": "python",
   "pygments_lexer": "ipython3",
   "version": "3.9.13"
  },
  "orig_nbformat": 4,
  "vscode": {
   "interpreter": {
    "hash": "1c63fc448cbcef6ea75575590d1315f3aed7a7d40ffa8180ee43b982def9dff1"
   }
  }
 },
 "nbformat": 4,
 "nbformat_minor": 2
}
