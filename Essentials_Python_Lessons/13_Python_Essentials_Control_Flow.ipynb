{
  "cells": [
    {
      "cell_type": "markdown",
      "metadata": {
        "colab_type": "text",
        "id": "view-in-github"
      },
      "source": [
        "<a href=\"https://colab.research.google.com/github/Josh-BI-UK/AiCore-Orientation/blob/main/13_Python_Essentials_Control_Flow.ipynb\" target=\"_parent\"><img src=\"https://colab.research.google.com/assets/colab-badge.svg\" alt=\"Open In Colab\"/></a>"
      ]
    },
    {
      "attachments": {},
      "cell_type": "markdown",
      "metadata": {
        "id": "jU8eV8BZSs4w"
      },
      "source": [
        "# Module: 10 Dictionaries\n",
        "### Learning Track: AiCore - Essentials > Python Programming Lesson Track\n",
        "\n",
        "\n",
        "The purpose of this notebook is to practice and test Python techniques covered in the \"AiCore - Essentials > Python Programming\" lesson track. \n",
        "\n",
        "<br>\n",
        "\n",
        "> #### Top Tip:💡 There is a very helpful python lesson on the loops and control flow in python: "
      ]
    },
    {
      "cell_type": "markdown",
      "metadata": {
        "id": "CxeSNp89zp8L"
      },
      "source": [
        "## Introduction"
      ]
    },
    {
      "attachments": {},
      "cell_type": "markdown",
      "metadata": {
        "id": "Ck5_1E72zp8L"
      },
      "source": [
        "- Control flow refers to the order of execution of instructions in a computer program.\n",
        "- A program is a series of instructions called statements.\n",
        "- The order in which these statements are executed can vary.\n",
        "- Control flow facilitates decision making (conditional statements), branching and looping in code."
      ]
    },
    {
      "attachments": {},
      "cell_type": "markdown",
      "metadata": {},
      "source": [
        "## Python - Slicing Strings"
      ]
    },
    {
      "attachments": {},
      "cell_type": "markdown",
      "metadata": {},
      "source": [
        "## 2.4 BMI Checker\n",
        ">**Description:**\n",
        "> Given 2 variables, `height` and `weight`, calculate the BMI (`weight` / `height` ^2).\n",
        "    1. Using the parameter BMI, write a series of if statements that print the following outcomes:\n",
        "    \n",
        "      - Below 18.5 --> \"Your BMI is x. You're in the underweight range.\"\n",
        "      - Between 18.5 and 24.9 --> \"Your BMI is x. You're in the healthy weight range.\"\n",
        "      - Between 25 and 29.9 --> \"Your BMI is x. You're in the overweight range.\"\n",
        "      - Between 30 and 39.9 --> \"Your BMI is x. You're in the obese range.\"\n",
        "    \n",
        "    2. Test your code with the following cases by substituting them in for weight and height values in your code:\n",
        "      - Height: 1.83m, Weight: 85kg\n",
        "      - Height: 1.55m, Weight: 61kg\n",
        "      - Height: 2.09m, Weight: 135kg\n",
        "\n",
        "## 2.4 Flight Safety Checker\n",
        ">**Description:**\n",
        "> Given 2 variables, `altitude` (ft) and `airspeed` (knots)\n",
        "    1. Write a program that categorises entries into 'safe flying' and 'unsafe flying' based on the following criteria:\n",
        "      - An `altitude` below 100ft or above 50000ft is considered unsafe flying\n",
        "      - An `airspeed` below 60 knots or above 500 knots is considered unsafe flying\n",
        "      - If `altitude` and `airspeed` are outside these ranges, the flight is considered as safe\n",
        "    *CLUE: You will have to figure out the syntax for using `and`/`or` keywords in `if` statements*\n",
        "    2. Try to write this as cleanly as possible and test your code with the following by substituting in again:\n",
        "      - Altitude: 25000ft, Airspeed: 300 knots\n",
        "      - Altitude: 50001ft, Airspeed: 250 knots\n",
        "      - Altitude: 90ft, Airspeed: 125 knots\n",
        "\n",
        "## 2.4 Order of Conditions\n",
        ">**Description:**\n",
        "Download the next [file](https://aicoreassessments.s3.amazonaws.com/order_conditions.py).\n",
        "    1. Run the code and enter 5 as the input. What is the output?\n",
        "    2. Run the code again and enter 20 as the input. What is the output?\n",
        "    3. Run the code again and enter 50 as the input. What is the output?\n",
        "    Notice that for all three inputs, you received the same output, why is this?\n",
        "    4. Change the order of the conditions so that the correct output is printed for each input\n",
        "\n",
        "## 2.4 Unique Elements in a List\n",
        ">**Description:**\n",
        "Given a list named `my_list`, write a program that checks if all the elements in the list are unique.\n",
        "    If the elements are unique, print 'All elements are unique'. If there are duplicate elements, print 'There are duplicate elements'.\n",
        "\n",
        "## 2.4 Simple Rock-Paper-Scissors\n",
        ">**Description:**\n",
        "Write a program that checks which player wins a game of Rock Paper Scissors.\n",
        "\n",
        "Download the next [file](https://aicoreassessments.s3.amazonaws.com/simple_rps.py).\n",
        "    The program asks two inputs from the user: `player1` and `player2`. The inputs can be either 'rock', 'paper' or 'scissors'.\n",
        "    1. Code the logic of the game to see who wins. Print the result like: 'Player 1 wins' or 'Player 2 wins'\n",
        "    2. If one of the inputs is not 'rock', 'paper' or 'scissors', print 'Invalid input'\n",
        "    3. If both inputs are the same, print \"It's a tie\"\n",
        "Test your code with the following inputs:\n",
        "    - Player 1: scissors, Player 2: paper (This should print 'Player 1 wins')\n",
        "    - Player 1: scissors, Player 2: rock (This should print 'Player 2 wins')\n",
        "    - Player 1: paper, Player 2: paper (This should print 'It's a tie')\n",
        "    - Player 1: rock, Player 2: lizzard (This should print 'Invalid input')"
      ]
    }
  ],
  "metadata": {
    "colab": {
      "authorship_tag": "ABX9TyNbu/B01ch00iIXfbKKN3FN",
      "include_colab_link": true,
      "provenance": []
    },
    "kernelspec": {
      "display_name": "base",
      "language": "python",
      "name": "python3"
    },
    "language_info": {
      "name": "python",
      "version": "3.9.13 (main, Aug 25 2022, 18:29:29) \n[Clang 12.0.0 ]"
    },
    "vscode": {
      "interpreter": {
        "hash": "1c63fc448cbcef6ea75575590d1315f3aed7a7d40ffa8180ee43b982def9dff1"
      }
    }
  },
  "nbformat": 4,
  "nbformat_minor": 0
}
