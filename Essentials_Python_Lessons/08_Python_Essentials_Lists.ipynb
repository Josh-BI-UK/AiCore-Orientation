{
 "cells": [
  {
   "attachments": {},
   "cell_type": "markdown",
   "metadata": {},
   "source": [
    "<a href='https://colab.research.google.com/github/Josh-BI-UK/AiCore-Orientation/blob/main/08_Python_Essentials_Lists.ipynb\" target=\"_parent'><img src=\"https://colab.research.google.com/assets/colab-badge.svg\" alt=\"Open In Colab\"/></a>"
   ]
  },
  {
   "attachments": {},
   "cell_type": "markdown",
   "metadata": {},
   "source": [
    "# Module: 08 Lists\n",
    "### Learning Track: AiCore - Essentials > Python Programming Lesson Track\n",
    "\n",
    "\n",
    "The purpose of this notebook is to practice and test Python techniques covered in the \"AiCore - Essentials > Python Programming\" lesson track. \n",
    "\n",
    "<br>\n",
    "\n",
    "> #### Top Tip:💡 There are a few  very helpful resource for learning more about python lists (and everything python in genral) are:\n",
    "[1] GeeksforGeeks website -  <br>\n",
    "[2] A book by called \"Python Crash Course 2nd Edition\" by author: Eric Matthes"
   ]
  },
  {
   "attachments": {},
   "cell_type": "markdown",
   "metadata": {},
   "source": [
    "A list is a Python construct used to store an number of items. A List can hold mixed data types like Strings, Integers, and Objects.; list can even be nested one within another (i.e. a list can hold other \"child/sub\" lists, which in turn can hold \"grandchildren/sub-sub\" list, without any limit.). Lists are defined by enclosing a valid Python data object, in any order, with ssquare brackets '`[]`' with each element/item within the square brackets is separated by a comma \"`,`\".\n",
    "\n",
    "Here is an example of a simple python list containg the names of plants within our soloar system, as strings - either single quotes or double quotes can be used as perefered, just like defining anyother string object.\n",
    "\n",
    "`planets_list_a = [\"Mercury\",\"Venus\",\"Earth\",\"Mars\",\"Jupiter\",\"Saturn\",\"Uranus\",\"Neptune\"]`\n",
    "\n",
    "or\n",
    "\n",
    "`planets_list_b = ['Mercury','Venus','Earth','Mars','Jupiter','Saturn','Uranus','Neptune']`\n",
    "\n",
    "- Denoted by square brackets [].\n",
    "- Lists store items as a mutable ordered sequence of elements.\n",
    "- Each element in a list is an item.\n",
    "- Indexing and slicing operations apply to lists.\n",
    "- Lists can be nested several levels deep.\n",
    "\n",
    "\n",
    "A single list may contain DataTypes like Integers, Strings, as well as Objects. Lists are mutable, and hence, they can be altered even after their creation.\n",
    "\n",
    " A list is a collection of arbitrary objects, much like an array in other programming languages. Lists are defined by enclosing a comma-separated sequence of objects in square brackets:\n",
    "\n",
    "a = ['spam', 'egg', 'bacon', 'tomato']\n",
    "Here are the important characteristics of Python lists:\n",
    "\n",
    "* Lists are ordered.\n",
    "* Lists can contain any arbitrary objects.\n",
    "* List elements can be accessed by index.\n",
    "* Lists can be nested to arbitrary depth.\n",
    "* Lists are mutable.\n",
    "* Lists are dynamic.\n",
    "* They are faster, memory-efficient, data type. and protected against modifications.\n",
    "\n",
    "Tuples are another Python data type, almost identical to lists except for the following differences:\n",
    "\n",
    "* Tuples are defined by enclosing the elements in parentheses (`()`) instead of square brackets (`[]`).\n",
    "* Tuples are immutable protecting them against modifications.\n",
    "* Tuples can be packed and unpacked.🤩🤩🤩 (_unpacked: !!! This is a neat trick we wil come back to_)\n",
    "* They are faster, memory-efficient."
   ]
  },
  {
   "cell_type": "code",
   "execution_count": 6,
   "metadata": {},
   "outputs": [],
   "source": [
    "django_movie = (\"Tarantino\", 2012, 8.4, \"Waltz & DiCaprio\")"
   ]
  },
  {
   "cell_type": "code",
   "execution_count": 16,
   "metadata": {},
   "outputs": [],
   "source": [
    "space_adventure_cobra_moive = ['Space Adventure Cobra - The Movie','Osamu Dezaki','Japan','Japanese',99]"
   ]
  },
  {
   "cell_type": "code",
   "execution_count": 15,
   "metadata": {},
   "outputs": [],
   "source": [
    "moive_title, director, origin_country, original_language, running_time_mins = space_adventure_cobra_moive"
   ]
  },
  {
   "cell_type": "code",
   "execution_count": 14,
   "metadata": {},
   "outputs": [
    {
     "name": "stdout",
     "output_type": "stream",
     "text": [
      "99\n"
     ]
    }
   ],
   "source": [
    "print(running_time_mins)"
   ]
  },
  {
   "cell_type": "code",
   "execution_count": 7,
   "metadata": {},
   "outputs": [],
   "source": [
    "director, year, imdb_rating, stars = django_movie"
   ]
  },
  {
   "attachments": {},
   "cell_type": "markdown",
   "metadata": {},
   "source": [
    "### Looping through a whole list\n",
    "\n",
    "Because Python is scripted using plain English statements, which read just like proper sentences, Python is extremely easy to learn and use. For example, a 'For loop' that iterates through a list would look like this:\n",
    "\n",
    "```python\n",
    "companies = [\"Microsoft\", \"Google\", \"Databricks\",\"Amazon Web Services\"]\n",
    "for company in companies:\n",
    "    print(company)\n",
    "```\n",
    "\n",
    "You may be wondering where the obeject \"`company`\" came from, as we haven't defined a varible called `company`. Well we did, let's break the scripts down to explain how.<br>\n",
    "\n",
    "\n",
    "`➊ companies = [\"Microsoft\", \"Google\", \"Databricks\",\"Amazon Web Services\"]`<br>\n",
    "`➋ for ➌ company in ➍ companies:`<br>\n",
    "`❺     print(company)`<br>\n",
    "\n",
    "1. we create a list called `companies`.\n",
    "2. we start our `for loop` statement.\n",
    "3. we define a variable called `company` which the for loop will use to store the result of the statement, in our case the names of the companies. \n",
    "    - You can call this variable whatever you like. Typically, programmers use the letter \"i\" or \"x\"; you can really choose anything you want, as long as it is logical and helps others reading your code to understand what it is you are trying to achieve. Using a singular noun makes sense when your variable name is written as a plural.\n",
    "    - You can even use an existing varible, however, be careful here as the for loop will redefine whatever the old varible name pointed to.\n",
    "4. we then use the `in` operator to tell python to search within our object (i.e. our `companies` list) and then iterate over it.\n",
    "5. We `print` the output of the loop, storted within our newly defined variable `company`.\n",
    "\n",
    "What the above script is actually doing in plain english could be described like this:\n",
    "\n",
    "> **“For every company in the list of companies, print the company’s name.”**\n"
   ]
  },
  {
   "cell_type": "code",
   "execution_count": null,
   "metadata": {},
   "outputs": [],
   "source": []
  }
 ],
 "metadata": {
  "kernelspec": {
   "display_name": "base",
   "language": "python",
   "name": "python3"
  },
  "language_info": {
   "codemirror_mode": {
    "name": "ipython",
    "version": 3
   },
   "file_extension": ".py",
   "mimetype": "text/x-python",
   "name": "python",
   "nbconvert_exporter": "python",
   "pygments_lexer": "ipython3",
   "version": "3.9.13"
  },
  "orig_nbformat": 4,
  "vscode": {
   "interpreter": {
    "hash": "1c63fc448cbcef6ea75575590d1315f3aed7a7d40ffa8180ee43b982def9dff1"
   }
  }
 },
 "nbformat": 4,
 "nbformat_minor": 2
}
