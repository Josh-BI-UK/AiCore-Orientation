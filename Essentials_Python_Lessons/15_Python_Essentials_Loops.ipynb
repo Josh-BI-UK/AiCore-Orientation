{
 "cells": [
  {
   "attachments": {},
   "cell_type": "markdown",
   "metadata": {},
   "source": [
    "# Using enumerate vs For loop to find matching duplicates in list"
   ]
  },
  {
   "cell_type": "code",
   "execution_count": null,
   "metadata": {},
   "outputs": [],
   "source": [
    "\n",
    "# Python program to illustrate\n",
    "# enumerate function\n",
    "test_list1 = [\"eat\", \"sleep\", \"repeat\"]\n",
    "test_word1 = \"Hannah\".lower()\n",
    "dash_list = list('_'*len(test_word1))\n",
    "  \n",
    "# creating enumerate objects\n",
    "# obj1 = enumerate(test_list1)\n",
    "# obj2 = enumerate(test_word1)\n",
    "  \n",
    "# #print (\"Return type:\", type(test_list1))\n",
    "# print (list(enumerate(test_list1)))\n",
    "\n",
    "# print(test_list1)\n"
   ]
  },
  {
   "cell_type": "code",
   "execution_count": null,
   "metadata": {},
   "outputs": [],
   "source": [
    "test_guess1 = \"H\".lower()\n",
    "test_guess2 = \"n\".lower()\n",
    "test_guess3 = \"A\".lower()"
   ]
  },
  {
   "cell_type": "code",
   "execution_count": null,
   "metadata": {},
   "outputs": [
    {
     "name": "stdout",
     "output_type": "stream",
     "text": [
      "0 eat\n",
      "1 sleep\n",
      "2 repeat\n"
     ]
    }
   ],
   "source": [
    "for xValue in test_list1:\n",
    "    print(test_list1.index(xValue),xValue)"
   ]
  },
  {
   "cell_type": "code",
   "execution_count": null,
   "metadata": {},
   "outputs": [
    {
     "name": "stdout",
     "output_type": "stream",
     "text": [
      "0 eat\n",
      "1 sleep\n",
      "2 repeat\n"
     ]
    }
   ],
   "source": [
    "for xKey, xValue in enumerate(test_list1):\n",
    "    print(xKey,xValue)"
   ]
  },
  {
   "cell_type": "code",
   "execution_count": null,
   "metadata": {},
   "outputs": [
    {
     "name": "stdout",
     "output_type": "stream",
     "text": [
      "hannah\n",
      "0 h\n",
      "1 a\n",
      "2 n\n",
      "3 n\n",
      "4 a\n",
      "5 h\n"
     ]
    }
   ],
   "source": [
    "print(test_word1)\n",
    "for xCounter, xItem in enumerate(test_word1):\n",
    "    print(xCounter, xItem)"
   ]
  },
  {
   "cell_type": "code",
   "execution_count": null,
   "metadata": {},
   "outputs": [
    {
     "name": "stdout",
     "output_type": "stream",
     "text": [
      "['h', '_', '_', '_', '_', 'h']\n"
     ]
    }
   ],
   "source": [
    "# First test where test_guess = \"H\"\n",
    "dash_list = list('_'*len(test_word1))\n",
    "for xKey, xValue in enumerate(test_word1):\n",
    "    if xValue == test_guess1:\n",
    "        dash_list[xKey] = xValue\n",
    "print(dash_list)\n",
    "    "
   ]
  },
  {
   "cell_type": "code",
   "execution_count": null,
   "metadata": {},
   "outputs": [
    {
     "name": "stdout",
     "output_type": "stream",
     "text": [
      "['h', '_', 'n', 'n', '_', 'h']\n"
     ]
    }
   ],
   "source": [
    "# Second test where test_guess = \"n\"\n",
    "for xKey, xValue in enumerate(test_word1):\n",
    "    if xValue == test_guess2:\n",
    "        dash_list[xKey] = xValue\n",
    "print(dash_list)"
   ]
  },
  {
   "cell_type": "code",
   "execution_count": null,
   "metadata": {},
   "outputs": [
    {
     "name": "stdout",
     "output_type": "stream",
     "text": [
      "['h', 'a', 'n', 'n', 'a', 'h']\n"
     ]
    }
   ],
   "source": [
    "# Third test where test_guess = \"A\"\n",
    "for xKey, xValue in enumerate(test_word1):\n",
    "    if xValue == test_guess3:\n",
    "        dash_list[xKey] = xValue\n",
    "print(dash_list)"
   ]
  }
 ],
 "metadata": {
  "kernelspec": {
   "display_name": "base",
   "language": "python",
   "name": "python3"
  },
  "language_info": {
   "name": "python",
   "version": "3.9.13 (main, Aug 25 2022, 18:29:29) \n[Clang 12.0.0 ]"
  },
  "orig_nbformat": 4,
  "vscode": {
   "interpreter": {
    "hash": "1c63fc448cbcef6ea75575590d1315f3aed7a7d40ffa8180ee43b982def9dff1"
   }
  }
 },
 "nbformat": 4,
 "nbformat_minor": 2
}
