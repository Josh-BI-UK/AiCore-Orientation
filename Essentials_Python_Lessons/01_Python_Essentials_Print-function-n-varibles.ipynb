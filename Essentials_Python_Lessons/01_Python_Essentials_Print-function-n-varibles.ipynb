{
  "cells": [
    {
      "cell_type": "markdown",
      "metadata": {
        "colab_type": "text",
        "id": "view-in-github"
      },
      "source": [
        "<a href=\"https://colab.research.google.com/github/Josh-BI-UK/AiCore-Orientation/blob/main/01_Python_Essentials_Print-function-n-varibles.ipynb\" target=\"_parent\"><img src=\"https://colab.research.google.com/assets/colab-badge.svg\" alt=\"Open In Colab\"/></a>"
      ]
    },
    {
      "attachments": {},
      "cell_type": "markdown",
      "metadata": {},
      "source": [
        "\n",
        "# Module: 01 Printing Things & 02 Variables\n",
        "### Learning Track: AiCore - Essentials > Python Programming Lesson Track\n",
        "\n",
        "\n",
        "The purpose of this notebook is to practice and test Python techniques covered in the \"AiCore - Essentials > Python Programming\" lesson track. \n",
        "\n",
        "<br>\n",
        "\n",
        "> #### Top Tip:💡 There is a very helpful python lesson on the print function by realpython.com: https://realpython.com/python-print/"
      ]
    },
    {
      "attachments": {},
      "cell_type": "markdown",
      "metadata": {
        "id": "SbGxbQyqB4Pp"
      },
      "source": [
        "## 01 - Printing in Python\n",
        "\n",
        "\n",
        "1.1. Print out the message \"This print statement was created in Python\".\n",
        "\n",
        "1.2. name: Print with Multiple Arguments\n",
        "> **Description:** Assign your age to a variable, then, using a single print statement with multiple parameters, print \"Age:\" followed by your age."
      ]
    },
    {
      "cell_type": "code",
      "execution_count": 1,
      "metadata": {
        "colab": {
          "base_uri": "https://localhost:8080/"
        },
        "id": "LIwgLN9x9yex",
        "outputId": "3576aa28-a208-4587-dac6-d21b5ff34d39"
      },
      "outputs": [
        {
          "name": "stdout",
          "output_type": "stream",
          "text": [
            "This print statement was created in Python\n"
          ]
        }
      ],
      "source": [
        "msg = \"This print statement was created in Python\"\n",
        "print(msg)"
      ]
    },
    {
      "cell_type": "code",
      "execution_count": 2,
      "metadata": {
        "colab": {
          "base_uri": "https://localhost:8080/"
        },
        "id": "D25yU6mcEMLQ",
        "outputId": "791fd5ba-d77f-48a6-90ca-f352abbbd5ca"
      },
      "outputs": [
        {
          "name": "stdout",
          "output_type": "stream",
          "text": [
            "Hi my name is Josh, i'm 39, 🤣, my home town is  London 🙌\n"
          ]
        }
      ],
      "source": [
        "my_name = 'Josh'\n",
        "age = 39\n",
        "home_town = ' London'\n",
        "print(f\"Hi my name is {my_name}, i'm {age}, \\U0001F923, my home town is {home_town} \\U0001F64C\")"
      ]
    },
    {
      "cell_type": "code",
      "execution_count": 3,
      "metadata": {},
      "outputs": [
        {
          "name": "stdout",
          "output_type": "stream",
          "text": [
            "Josh\n",
            "\n",
            "39\n"
          ]
        }
      ],
      "source": [
        "# using end to give a new line\n",
        "print(my_name, end=\"\\n\\n\")\n",
        "print(age)"
      ]
    },
    {
      "cell_type": "code",
      "execution_count": 4,
      "metadata": {},
      "outputs": [
        {
          "name": "stdout",
          "output_type": "stream",
          "text": [
            "Josh\n",
            "\n",
            "39\n"
          ]
        }
      ],
      "source": [
        "# using a blank print statement to give a new line\n",
        "print(my_name)\n",
        "print()\n",
        "print(age)"
      ]
    },
    {
      "attachments": {},
      "cell_type": "markdown",
      "metadata": {},
      "source": [
        "## Variable Redefinition\n",
        "\n",
        "Note that we can redefine `x` using `x` itself.\n",
        "<br>\n",
        "\n",
        "Here, x is being __called__ on the right of the = sign and *redefined* on the left. <br>\n",
        "Think of this as *new `x`* = __old x__ + __old x__ (*new x* = __10__ + __10__):"
      ]
    },
    {
      "cell_type": "code",
      "execution_count": 8,
      "metadata": {},
      "outputs": [
        {
          "name": "stdout",
          "output_type": "stream",
          "text": [
            "30\n"
          ]
        }
      ],
      "source": [
        "# First lets assign a vaule to variable 'x'\n",
        "\n",
        "x = 15\n",
        "\n",
        "# Then redine x as \"old\" x + \"old\" x which will equal \"new\" x.\n",
        "x = x + x\n",
        "print(x)"
      ]
    },
    {
      "attachments": {},
      "cell_type": "markdown",
      "metadata": {
        "id": "njIkO827F5sy"
      },
      "source": [
        "## 02 - Variables\n",
        "\n",
        "\n",
        "### Variables: Learning Objectives\n",
        "After completing this section, you should understand:\n",
        "\n",
        "- variable assignment and naming conventions.\n",
        "- strings and some basic string methods, including .format().\n",
        "- indexing and slicing operations.\n",
        "\n",
        "### Variable Assignment\n",
        "In programming, it is conventional to use an object repeatedly in a project. Rather than defining the object repeatedly in code, we can assign it to a variable and use it instead.\n",
        "This concept is called Don't Repeat Yourself (DRY) coding. You will encounter many instances of this throughout this course.\n",
        "In Python, variables are assigned using the equals (=) sign.\n",
        "Variables are named using the following guidelines:\n",
        "<br>\n",
        "\n",
        "2.1 Variable Assignment & Re-assignment \n",
        "> **Description:** \n",
        "> 1. Define two variables `num1`, and `num2` with the values 37 and 52 respectively\n",
        "> 2. What is the sum of num1 and num2? What about the product?\n",
        "> 3. Now reassign `num1` and `num2` to have the values 8 and 3 respectively\n",
        "> 4. Reuse the code to determine their sum and product\n",
        "\n",
        "\n"
      ]
    },
    {
      "cell_type": "code",
      "execution_count": 8,
      "metadata": {
        "colab": {
          "base_uri": "https://localhost:8080/"
        },
        "id": "MIvK6_-WGyNG",
        "outputId": "a836d29b-ca4a-40a6-c8ef-0b389183f0a3"
      },
      "outputs": [
        {
          "name": "stdout",
          "output_type": "stream",
          "text": [
            "89\n"
          ]
        }
      ],
      "source": [
        "num1 = 37\n",
        "num2 = 52\n",
        "\n",
        "print(num1 + num2)"
      ]
    },
    {
      "cell_type": "code",
      "execution_count": 9,
      "metadata": {
        "colab": {
          "base_uri": "https://localhost:8080/"
        },
        "id": "QkeVIks4HS4V",
        "outputId": "cb0147b4-d6d7-4564-bc1d-ab0058c1d9df"
      },
      "outputs": [
        {
          "name": "stdout",
          "output_type": "stream",
          "text": [
            "11\n"
          ]
        }
      ],
      "source": [
        "num1 = 8\n",
        "num2 = 3\n",
        "\n",
        "print(num1 + num2)\n"
      ]
    },
    {
      "cell_type": "markdown",
      "metadata": {
        "id": "JaF0YZoeHtvR"
      },
      "source": [
        "## 2.2 Different Variable Types\n",
        "\n",
        "> **Description:** \n",
        "Define the the following variables `num = 23`, `text_num = “57”` and `decimal_num = 98.3`\n",
        "1. Print the types of each variable (hint: use a type comversion function)\n",
        "2. What is the sum of your variables? What datatype is the sum?\n",
        "\n",
        "\n",
        "## 2.3 Printing Multiple Variables - part-1\n",
        "\n",
        "> **Description:** \n",
        "You can use the print function to print multiple variables of different types on a single line. \n",
        "> This can be done by using comma to separate variables within the parentheses of the print function. \n",
        "> For example: `print(variable1, variable2)`. You can also print raw values that have not been assigned variables. \n",
        "    For example, `print(\"This is variable 1: \", 67)`."
      ]
    },
    {
      "cell_type": "code",
      "execution_count": 17,
      "metadata": {
        "colab": {
          "base_uri": "https://localhost:8080/"
        },
        "id": "6dcg5G8SIh_b",
        "outputId": "8617f2dc-0753-413c-b0a4-7e99334d82f7"
      },
      "outputs": [
        {
          "name": "stdout",
          "output_type": "stream",
          "text": [
            "num =  <class 'int'> ;  text_num =  <class 'str'> ;  decimal_num =  <class 'float'>\n",
            "\t\n",
            " num =  <class 'int'> \t\n",
            " text_num =  <class 'str'> \t\n",
            " decimal_num =  <class 'float'>\n"
          ]
        }
      ],
      "source": [
        "#Assigning multiple variables in one statement\n",
        "num, text_num, decimal_num = 23, '57', 98.3\n",
        "\n",
        "#Print multiple variables on one line\n",
        "print('num = ',type(num),\"; \",'text_num = ',type(text_num),\"; \",'decimal_num = ',type(decimal_num))\n",
        "\n",
        "#Print multiple variables on serprate lines, using tab ('\\t') and newline ('\\n') ascii code\n",
        "print('\\t\\n','num = ',type(num),'\\t\\n','text_num = ',type(text_num),'\\t\\n','decimal_num = ',type(decimal_num))"
      ]
    },
    {
      "cell_type": "markdown",
      "metadata": {
        "id": "XaxpJvb4LxHu"
      },
      "source": [
        "## 2.3 Printing Multiple Variables - part-2\n",
        "\n",
        "For this exercise, define 5-10 numbers as variables. `num1=...`, `num2=...`\n",
        "1. Use a single print statement to print all of the even numbers out of your newly defined variables with the following statement, `\"These are my even numbers:\"`."
      ]
    },
    {
      "cell_type": "code",
      "execution_count": 18,
      "metadata": {
        "colab": {
          "base_uri": "https://localhost:8080/"
        },
        "id": "9OR4VSCAOzUb",
        "outputId": "5dcf935b-301a-4263-e80e-d6948e5f7652"
      },
      "outputs": [
        {
          "name": "stdout",
          "output_type": "stream",
          "text": [
            "[1, 2, 3, 4, 5, 6, 7, 8, 9, 10]\n"
          ]
        }
      ],
      "source": [
        "\n",
        "# define 5-10 numbers as variables. num1=..., num2=...\n",
        "num1, num2, num3, num4, num5, num6, num7, num8, num9, num10 = 1, 2 , 3, 4, 5, 6, 7, 8, 9, 10\n",
        "my_num_list = [num1, num2, num3, num4, num5, num6, num7, num8, num9, num10]\n",
        "print(my_num_list)"
      ]
    },
    {
      "cell_type": "code",
      "execution_count": 19,
      "metadata": {
        "colab": {
          "base_uri": "https://localhost:8080/"
        },
        "id": "jYbXiJmiMn1b",
        "outputId": "a89a3cd7-805d-4cb1-f98f-3fa1bfcafb88"
      },
      "outputs": [
        {
          "name": "stdout",
          "output_type": "stream",
          "text": [
            "These are my even numbers: [2, 4, 6, 8, 10]\n",
            "These are my odd numbers: [1, 3, 5, 7, 9]\n"
          ]
        }
      ],
      "source": [
        "even_nums = []\n",
        "odd_nums = []\n",
        "for mynum in my_num_list:\n",
        "  if (mynum % 2) == 0:\n",
        "    even_nums.append(mynum)\n",
        "  else: \n",
        "    odd_nums.append(mynum)\n",
        "\n",
        "print ('These are my even numbers:',even_nums)\n",
        "print ('These are my odd numbers:',odd_nums)"
      ]
    },
    {
      "cell_type": "code",
      "execution_count": null,
      "metadata": {},
      "outputs": [],
      "source": [
        "def another_get_even_meth(numbers):\n",
        "    even_nums = [num for num in numbers if not num % 2]\n",
        "    return even_nums\n",
        "\n",
        "another_get_even_meth([1, 2, 3, 4, 5, 6])"
      ]
    },
    {
      "cell_type": "markdown",
      "metadata": {
        "id": "4aTD-_vOQzcU"
      },
      "source": [
        "2. The + operator in Python works with strings variables as well as numeric types - but it simply concatenates strings together one after the other. Using + and the example below, write your output as a single complete sentence. (Hint: you'll probably need to use at least one type conversion function). \n",
        "`print(\"work\" + \"shop\")` will output `workshop` ; `print(\"3\" + \"7\")` will output `37`."
      ]
    },
    {
      "cell_type": "code",
      "execution_count": 21,
      "metadata": {
        "colab": {
          "base_uri": "https://localhost:8080/"
        },
        "id": "mq64sAR3RCtd",
        "outputId": "658990f6-be2f-4b1a-aeb0-f4f04e2e0b37"
      },
      "outputs": [
        {
          "name": "stdout",
          "output_type": "stream",
          "text": [
            "workshop  37\n"
          ]
        }
      ],
      "source": [
        "print(\"work\" + \"shop\",\"\",\"3\" + \"7\")"
      ]
    },
    {
      "attachments": {},
      "cell_type": "markdown",
      "metadata": {
        "id": "2XnTma4CR-X5"
      },
      "source": [
        "## 2.4 Calculate Your Shopping Bills\n",
        ">**Description:**\n",
        "> 1. Assign variables for each of these items and their prices\n",
        "> - Tomatoes cost 87p for a pack of 6\n",
        "> - 500g sugar costs £1.09\n",
        "> - Washing sponges cost 29p for a pack of 10\n",
        "> - Juice is £1.89 per 1.5l bottle\n",
        "> - Foil is £1.29 per 30m roll\n",
        "> 2. Using arithmetic operations in Python, calculate the price of 1kg sugar\n",
        "> 3. What is the price of 20 washing sponges, 3l of juice, and 2 packs of tomatoes?"
      ]
    },
    {
      "cell_type": "code",
      "execution_count": 26,
      "metadata": {
        "colab": {
          "base_uri": "https://localhost:8080/"
        },
        "id": "86t9Dk_rTwNP",
        "outputId": "344e0621-c1ad-4c40-eddf-76c9f227cfef"
      },
      "outputs": [
        {
          "name": "stdout",
          "output_type": "stream",
          "text": [
            "My shopping list total is: £8.28\n"
          ]
        }
      ],
      "source": [
        "tomatoes_6_per_pck = 0.87\n",
        "sugar_500g = 1.09\n",
        "washing_sponges_pck_10 = 0.29\n",
        "juice_per_bottle_1_5L = 1.89\n",
        "foil_per_30m_roll = 1.29\n",
        "\n",
        "sugar_1kg = sugar_500g * 2\n",
        "washing_sponges_qty_20 = washing_sponges_pck_10 * 2\n",
        "juice_3L = juice_per_bottle_1_5L * 2\n",
        "tomatoes_2_pcks = tomatoes_6_per_pck * 2\n",
        "my_shop_total = sugar_1kg + washing_sponges_qty_20 + juice_3L + tomatoes_2_pcks\n",
        "\n",
        "print(f'My shopping list total is:',\"£{:,.2f}\".format(my_shop_total))"
      ]
    },
    {
      "cell_type": "markdown",
      "metadata": {
        "id": "uOjLCuGmXe64"
      },
      "source": [
        "## 2.5 Calculate a Groups Shopping Bills\n",
        "**Description:**\n",
        "1. How much would it cost for 5 people if each person needs:\n",
        "       - A pack of tomatoes\n",
        "       - 3 washing sponges\n",
        "       - A litre of juice\n",
        "       - 20m of foil\n",
        "       - 180g sugar"
      ]
    },
    {
      "cell_type": "code",
      "execution_count": 36,
      "metadata": {
        "colab": {
          "base_uri": "https://localhost:8080/"
        },
        "id": "4Sg1-4UzX7V4",
        "outputId": "580241f3-a842-452a-f2f1-839a64668205"
      },
      "outputs": [
        {
          "name": "stdout",
          "output_type": "stream",
          "text": [
            "\t\n",
            " The shop for a group of 5 people totals = £9.35. \t\n",
            " That's £1.87, per person.\n"
          ]
        }
      ],
      "source": [
        "# 5 person shopping list\n",
        "per_person_shop_total = (tomatoes_6_per_pck \n",
        "+ ((washing_sponges_pck_10 // 10) * 3) \n",
        "+ ((juice_per_bottle_1_5L // 1.5) * 1) \n",
        "+ ((foil_per_30m_roll // 30) * 20) \n",
        "+ ((sugar_500g // 500) * 180) )\n",
        "\n",
        "grp_size = 5\n",
        "\n",
        "grp_shop_total = per_person_shop_total * grp_size\n",
        "\n",
        "print(f\"\\t\\n The shop for a group of {grp_size} people totals =\",\"£{:,.2f}.\".format(grp_shop_total),\"\\t\\n That\\'s\",\"£{:,.2f},\".format(per_person_shop_total),\"per person.\")"
      ]
    },
    {
      "attachments": {},
      "cell_type": "markdown",
      "metadata": {
        "id": "7KjjmmKkf8cb"
      },
      "source": [
        "2. Assign the value to total\n",
        "    - Provide your answer as a printed variable called total.\n",
        "    \n",
        "<br>\n",
        "\n",
        "3. These prices do not include VAT. Calculate the VAT on the total, assuming that VAT is 20%.\n",
        "\n",
        "\n",
        "4. Then round it appropriately to two decimal places."
      ]
    },
    {
      "cell_type": "code",
      "execution_count": 50,
      "metadata": {
        "colab": {
          "base_uri": "https://localhost:8080/"
        },
        "id": "B79NupTyej-S",
        "outputId": "d744412b-191c-4359-ae65-7da663ce450a"
      },
      "outputs": [
        {
          "name": "stdout",
          "output_type": "stream",
          "text": [
            "£9.35\n",
            "£11.22\n"
          ]
        }
      ],
      "source": [
        "# Assign value to total\n",
        "total = grp_shop_total\n",
        "print(\"£{:,.2f}\".format(total))\n",
        "\n",
        "VAT_pct = 0.20\n",
        "\n",
        "# Calculate VAT amount\n",
        "vat_amount = total * VAT_pct\n",
        "\n",
        "# rounded VAT amount\n",
        "vat_amount  = round(vat_amount,2)\n",
        "\n",
        "total_inc_vat = total * (1 + VAT_pct)\n",
        "print(\"£{:,.2f}\".format(total_inc_vat))"
      ]
    },
    {
      "attachments": {
        "image-2.png": {
          "image/png": "[encoded data removed]"
        },
        "image.png": {
          "image/png": "[encoded data removed]"
        }
      },
      "cell_type": "markdown",
      "metadata": {},
      "source": [
        "## 2.6 Shapes with measurements\n",
        "You have shapes with measurements:\n",
        "Taking pi (or $π$) to equal figure: 3.141592653589793\n",
        "<br>\n",
        "\n",
        "**Cuboid:** <br>\n",
        "\n",
        "- Height $(h)$\n",
        "- Width $(w)$\n",
        "- Length $(l)$\n",
        "\n",
        "     \n",
        "     - **Formula for cuboid volume** = Length * Width * Height or $l * w * h$ <br>\n",
        "<br>\n",
        "\n",
        "- Were as:\n",
        "     - **Total Surface Area of Cuboid (TSA):** \n",
        "\n",
        "Math formula: $TSA = 2(lb + bh +lh)<br>\n",
        "\n",
        "Pesudo Formula: TSA = 2 x (Length x Width + Width x Height + Length x Height)<br>\n",
        "\n",
        "Pythonsic Style Formula (once all variables have been defined): `total_surface_area = 2 x ((length x width) + (width x height) + (length x height))`<br>\n",
        "\n",
        "<br>     \n",
        "\n",
        "**Cone:** <br>\n",
        "Formula for surafce area of cone is a bit more involved: <br>\n",
        "1. First step in finding the surface area (i.e. $SA$) of a cone is to measure the radius ($r$) of the circle part of the cone. \n",
        "2. The next step is to find the area of the circle, or base.\n",
        " - The area of a circle is 3.14 times the radius squared ($πr2$).\n",
        "3. We also need to calulate the cones length or slant height as it is also known.\n",
        "\n",
        "![image.png](attachment:image.png)<br>\n",
        "<font size=1> [Source: omnicalculator.com] [1] </font>\n",
        "\n",
        "Where,\n",
        "- r (or $r$) is the radius\n",
        "     - variable: `radius`<br>\n",
        "- h (or $h$) is the slant height\n",
        "     - variable: `height` <br>\n",
        "- l (or $l$) is the slant height\n",
        "     - variable: `slant_height` <br>\n",
        "- pi (or $π$) or 3.14\n",
        "     - variable: `pi`<br>\n",
        "- SA (or $SA$) is surface area\n",
        "     - variable: `surface_area`<br>\n",
        "- V (or $V$) is volume\n",
        "     - variable: `volume`<br>\n",
        "\n",
        "#### === Slant Height formula ===\n",
        "\n",
        "The slant height of a cone is nothing but the hypotenuse of the right triangle that generates the cone. We can apply the Pythagorean theorem to calculate the slant height of any cone, knowing the radius and the height.\n",
        "\n",
        "The formula for the slant height of a cone is:<br>\n",
        "\n",
        "Math formula: $l = \\sqrt{r^2+h^2}$\n",
        "\n",
        "or \n",
        "​\n",
        "  \n",
        "$l= \\frac{h}{sinα}$\n",
        "​<br>\n",
        " \n",
        "$l= \\frac{r}{sinβ}$\n",
        "​<br>\n",
        "​\n",
        "\n",
        "Pesudo Formula: Slant Height = square root of (radius^2) + (height^2)\n",
        "<br>\n",
        "\n",
        "Pythonsic Style Formula (once all variables have been defined): \n",
        "where square root = 'x' ** 0.5\n",
        "\n",
        " `slant height = ((radius **2) + (height **2))** 0.5`\n",
        "<br>\n",
        "\n",
        "\n",
        "#### === Cone Surface Area formula ===\n",
        "\n",
        "Math formula: $SA = πr2 + πrl$\n",
        "<br>\n",
        "\n",
        "Pesudo Formula: Surface Area = (3.14 x (radius^2)) + (3.14 x radius x length)\n",
        "<br>\n",
        "\n",
        "Pythonsic Style Formula (once all variables have been defined):  `surface_area = (pi * pow(radius,2)) + (pi * radius * slant height)`\n",
        "<br>\n",
        "\n",
        "### === Cone Volume formula ===\n",
        "\n",
        "<br>\n",
        "\n",
        "Therefore, the volume of a cone formula is given as:\n",
        "<br>\n",
        "\n",
        "Math formula: $V = \\frac{1}{3}πr^2h$  cubic units <br>\n",
        "\n",
        "<br>\n",
        "\n",
        "Pesudo Formula: Volume = 1/3 x (3.14 x (radius^2)) x height<br>\n",
        "<br>\n",
        "\n",
        "Pythonsic Style Formula (once all variables have been defined):  `volume = ((1/3) * (pi * pow(radius,2))  * height)`<br>\n",
        "<br>\n",
        "\n",
        "![image.png](attachment:image-2.png)<br>\n",
        "<font size=1> [Source: byjus.com] [2] </font>\n",
        "\n",
        "--------<br>\n",
        "\n",
        "### Task\n",
        "1. Calculate the volume and surface areas of the shapes using the equations above an parameters for each shape as follows:\n",
        "\n",
        "- **Cuboid:**\n",
        "     - Height $(h)$: 25/7\n",
        "     - Width $(w)$: 25/2\n",
        "     - Length $(l)$: 35\n",
        "     <br>\n",
        "\n",
        "- **Cone:**\n",
        "     - Height or slant height (h): 10\n",
        "     - Radius of base (r): 3\n",
        "\n",
        "2. Write two print statements (one for each shape) in the format: \"The volume of {shape} is {x} and the surface area is {y}.\"\n",
        "\n",
        "<font size=1>\n",
        "\n",
        "[1]: <https://www.web-formulas.com/Math_Formulas/Geometry_Surface_of_Cone.aspx> (Geometry Surface of Cone)\n",
        "[2]: <https://byjus.com/maths/volume-of-cone/> (Volume of cone)\n",
        "\n",
        "</font>\n"
      ]
    },
    {
      "cell_type": "code",
      "execution_count": 56,
      "metadata": {},
      "outputs": [
        {
          "name": "stdout",
          "output_type": "stream",
          "text": [
            "pi = 3.1415\n",
            "cub_h = 3.57\n",
            "cub_w = 12.5\n",
            "cub_l = 35\n",
            "cone_h = 10\n",
            "cone_r = 3\n",
            "cone_sh = 10.44\n"
          ]
        }
      ],
      "source": [
        "pi = 3.1415\n",
        "cub_h = round(25/7,2)\n",
        "cub_w = round(25/2,2)\n",
        "cub_l = 35\n",
        "cone_h = 10\n",
        "cone_r = 3\n",
        "cone_sh = round(((cone_r **2) + (cone_h **2))**0.5,2)\n",
        "\n",
        "print(f\"pi = {pi}\",end=\"\\n\")\n",
        "print(f\"cub_h = {cub_h}\",end=\"\\n\")\n",
        "print(f\"cub_w = {cub_w}\",end=\"\\n\")\n",
        "print(f\"cub_l = {cub_l}\",end=\"\\n\")\n",
        "print(f\"cone_h = {cone_h}\",end=\"\\n\")\n",
        "print(f\"cone_r = {cone_r}\",end=\"\\n\")\n",
        "print(f\"cone_sh = {cone_sh}\",end=\"\\n\")"
      ]
    },
    {
      "cell_type": "code",
      "execution_count": 57,
      "metadata": {},
      "outputs": [
        {
          "name": "stdout",
          "output_type": "stream",
          "text": [
            "The volume of a cuboid is 1,561.88cm3 and the surface area is 1,214.15cm2.\n",
            "The volume of a cone is 94.24cm3 and the surface area is 126.67cm2.\n"
          ]
        }
      ],
      "source": [
        "cuboid_volume = cub_l * cub_w * cub_h\n",
        "cuboid_surface_area = 2 * ((cub_l*cub_w) + (cub_l*cub_h) + (cub_h*cub_w))\n",
        "cone_base_area = pi * (cone_r**2)\n",
        "cone_surface_area = (pi * (cone_r **2)) + (pi * cone_r * cone_sh)\n",
        "\n",
        "cone_volume = ((1/3) * pi * (cone_r**2) * cone_h)\n",
        "\n",
        "#Assumed measurements given in cm\n",
        "print(\"The volume of a {shape} is {vol:,.2f}cm3 and the surface area is {surf_area:,.2f}cm2.\"\n",
        ".format(shape=\"cuboid\",vol=cuboid_volume,surf_area=cuboid_surface_area))\n",
        "\n",
        "\n",
        "print(\"The volume of a {shape} is {vol:,.2f}cm3 and the surface area is {surf_area:,.2f}cm2.\"\n",
        ".format(shape=\"cone\",vol=cone_volume,surf_area=cone_surface_area))\n"
      ]
    }
  ],
  "metadata": {
    "colab": {
      "include_colab_link": true,
      "provenance": []
    },
    "kernelspec": {
      "display_name": "base",
      "language": "python",
      "name": "python3"
    },
    "language_info": {
      "codemirror_mode": {
        "name": "ipython",
        "version": 3
      },
      "file_extension": ".py",
      "mimetype": "text/x-python",
      "name": "python",
      "nbconvert_exporter": "python",
      "pygments_lexer": "ipython3",
      "version": "3.9.13 (main, Aug 25 2022, 18:29:29) \n[Clang 12.0.0 ]"
    },
    "vscode": {
      "interpreter": {
        "hash": "1c63fc448cbcef6ea75575590d1315f3aed7a7d40ffa8180ee43b982def9dff1"
      }
    }
  },
  "nbformat": 4,
  "nbformat_minor": 0
}
