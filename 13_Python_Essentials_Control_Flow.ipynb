{
  "nbformat": 4,
  "nbformat_minor": 0,
  "metadata": {
    "colab": {
      "provenance": [],
      "authorship_tag": "ABX9TyNbu/B01ch00iIXfbKKN3FN",
      "include_colab_link": true
    },
    "kernelspec": {
      "name": "python3",
      "display_name": "Python 3"
    },
    "language_info": {
      "name": "python"
    }
  },
  "cells": [
    {
      "cell_type": "markdown",
      "metadata": {
        "id": "view-in-github",
        "colab_type": "text"
      },
      "source": [
        "<a href=\"https://colab.research.google.com/github/Josh-BI-UK/AiCore-Orientation/blob/main/13_Python_Essentials_Control_Flow.ipynb\" target=\"_parent\"><img src=\"https://colab.research.google.com/assets/colab-badge.svg\" alt=\"Open In Colab\"/></a>"
      ]
    },
    {
      "cell_type": "markdown",
      "metadata": {
        "id": "jU8eV8BZSs4w"
      },
      "source": [
        "# Module: 10 Dictionaries\n",
        "### Learning Track: AiCore - Essentials > Python Programming Lesson Track\n",
        "\n",
        "\n",
        "The purpose of this notebook is to practice and test Python techniques covered in the \"AiCore - Essentials > Python Programming\" lesson track. \n",
        "\n",
        "<br>\n",
        "\n",
        "> #### Top Tip:💡 There is a very helpful python lesson on the dictionaries"
      ]
    },
    {
      "cell_type": "markdown",
      "metadata": {
        "id": "CxeSNp89zp8L"
      },
      "source": [
        "## Introduction"
      ]
    },
    {
      "cell_type": "markdown",
      "metadata": {
        "id": "Ck5_1E72zp8L"
      },
      "source": [
        "- Dictionaries are __ordered__ collections of key:value pairs. (They became ordered from Python 3.6).\n",
        "- Keys can be of any __immutable__ data type; however, the best practice is to use strings.\n",
        "- Values can be of any data type, including dictionaries themselves (i.e. nesting).\n",
        "- Dictionaries are indexed using keys."
      ]
    }
  ]
}